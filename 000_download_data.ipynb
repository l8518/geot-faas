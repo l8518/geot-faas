{
 "cells": [
  {
   "cell_type": "code",
   "execution_count": 2,
   "id": "2bc778e3",
   "metadata": {},
   "outputs": [
    {
     "name": "stderr",
     "output_type": "stream",
     "text": [
      "/usr/lib/python3/dist-packages/requests/__init__.py:89: RequestsDependencyWarning: urllib3 (1.26.7) or chardet (3.0.4) doesn't match a supported version!\n",
      "  warnings.warn(\"urllib3 ({}) or chardet ({}) doesn't match a supported \"\n"
     ]
    }
   ],
   "source": [
    "import multiprocessing\n",
    "import os\n",
    "import subprocess\n",
    "import sys\n",
    "from concurrent.futures import ThreadPoolExecutor\n",
    "from pathlib import Path\n",
    "\n",
    "from azure.storage.blob import BlobServiceClient"
   ]
  },
  {
   "cell_type": "code",
   "execution_count": 3,
   "id": "209577a0",
   "metadata": {},
   "outputs": [
    {
     "name": "stdout",
     "output_type": "stream",
     "text": [
      "Enter experiment name:gtbf\n"
     ]
    }
   ],
   "source": [
    "# Get Experimentname\n",
    "if len(sys.argv) == 2:\n",
    "    experimentname = sys.argv[1]\n",
    "else:\n",
    "    experimentname = input(\"Enter experiment name:\")"
   ]
  },
  {
   "cell_type": "code",
   "execution_count": 4,
   "id": "455c9227",
   "metadata": {},
   "outputs": [
    {
     "name": "stderr",
     "output_type": "stream",
     "text": [
      "/bin/sh: 1: az: not found\n"
     ]
    }
   ],
   "source": [
    "connect_str = subprocess.check_output(\n",
    "    f\"az storage account show-connection-string --name {experimentname}core | jq -r .connectionString\", shell=True).decode()\n",
    "download_path = f\"./data/downloaded/{experimentname}\"\n",
    "Path(download_path).mkdir(parents=True, exist_ok=True)"
   ]
  }
 ],
 "metadata": {
  "kernelspec": {
   "display_name": "Python 3 (ipykernel)",
   "language": "python",
   "name": "python3"
  },
  "language_info": {
   "codemirror_mode": {
    "name": "ipython",
    "version": 3
   },
   "file_extension": ".py",
   "mimetype": "text/x-python",
   "name": "python",
   "nbconvert_exporter": "python",
   "pygments_lexer": "ipython3",
   "version": "3.8.10"
  }
 },
 "nbformat": 4,
 "nbformat_minor": 5
}
