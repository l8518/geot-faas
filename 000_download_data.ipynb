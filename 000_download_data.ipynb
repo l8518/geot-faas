{
 "cells": [
  {
   "cell_type": "code",
   "execution_count": 20,
   "id": "2bc778e3",
   "metadata": {},
   "outputs": [],
   "source": [
    "import multiprocessing\n",
    "import os\n",
    "import subprocess\n",
    "import sys\n",
    "from concurrent.futures import ThreadPoolExecutor\n",
    "from pathlib import Path\n",
    "from azure.storage.blob import BlobServiceClient\n",
    "from azure.cli.core import get_default_cli\n",
    "\n",
    "def az_cli (args_str):\n",
    "    args = args_str.split()\n",
    "    cli = get_default_cli()\n",
    "    cli.invoke(args, out_file = open(os.devnull, 'w'))\n",
    "    if cli.result.result:\n",
    "        return cli.result.result\n",
    "    elif cli.result.error:\n",
    "        raise cli.result.error\n",
    "    return True"
   ]
  },
  {
   "cell_type": "code",
   "execution_count": 21,
   "id": "209577a0",
   "metadata": {},
   "outputs": [
    {
     "name": "stdout",
     "output_type": "stream",
     "text": [
      "Enter experiment name:gtbf\n"
     ]
    }
   ],
   "source": [
    "# Get Experimentname\n",
    "if len(sys.argv) == 2:\n",
    "    experimentname = sys.argv[1]\n",
    "else:\n",
    "    experimentname = input(\"Enter experiment name:\")"
   ]
  },
  {
   "cell_type": "code",
   "execution_count": 23,
   "id": "455c9227",
   "metadata": {},
   "outputs": [],
   "source": [
    "azCliSA = az_cli(f\"storage account show-connection-string --name {experimentname}core\")\n",
    "download_path = f\"./data/downloaded/{experimentname}\"\n",
    "Path(download_path).mkdir(parents=True, exist_ok=True)"
   ]
  },
  {
   "cell_type": "code",
   "execution_count": 24,
   "id": "c8bc71fb",
   "metadata": {},
   "outputs": [
    {
     "data": {
      "text/plain": [
       "[]"
      ]
     },
     "execution_count": 24,
     "metadata": {},
     "output_type": "execute_result"
    }
   ],
   "source": [
    "blob_service = BlobServiceClient.from_connection_string(azCliSA['connectionString'])\n",
    "container_client = blob_service.get_container_client(\"runs\")\n",
    "# List the blobs in the container:\n",
    "blob_list = container_client.list_blobs()\n",
    "\n",
    "# List the already downloaded elements:\n",
    "downloaded_tars = os.listdir(download_path)\n",
    "downloaded_tars"
   ]
  },
  {
   "cell_type": "code",
   "execution_count": 25,
   "id": "9d711656",
   "metadata": {},
   "outputs": [
    {
     "name": "stdout",
     "output_type": "stream",
     "text": [
      "downloading\n",
      "downloaded 91524\n"
     ]
    }
   ],
   "source": [
    "def download(blob):\n",
    "    if blob.name in downloaded_tars:\n",
    "        return 0\n",
    "\n",
    "    blob_client = blob_service.get_blob_client(container=\"runs\", blob=blob)\n",
    "    download_file_path = os.path.join(download_path, blob.name)\n",
    "\n",
    "    with open(download_file_path, \"wb\") as download_file:\n",
    "        download_file.write(blob_client.download_blob().readall())\n",
    "    return 1\n",
    "\n",
    "print('downloading')\n",
    "result = []\n",
    "with ThreadPoolExecutor(max_workers=multiprocessing.cpu_count()) as tpe:\n",
    "    result = tpe.map(download, blob_list)\n",
    "\n",
    "print(\"downloaded\", sum(result))"
   ]
  }
 ],
 "metadata": {
  "kernelspec": {
   "display_name": "Python 3 (ipykernel)",
   "language": "python",
   "name": "python3"
  },
  "language_info": {
   "codemirror_mode": {
    "name": "ipython",
    "version": 3
   },
   "file_extension": ".py",
   "mimetype": "text/x-python",
   "name": "python",
   "nbconvert_exporter": "python",
   "pygments_lexer": "ipython3",
   "version": "3.8.10"
  }
 },
 "nbformat": 4,
 "nbformat_minor": 5
}
