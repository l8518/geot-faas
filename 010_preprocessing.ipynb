{
 "cells": [
  {
   "cell_type": "code",
   "execution_count": 1,
   "id": "4c287d00",
   "metadata": {},
   "outputs": [],
   "source": [
    "import pandas as pd\n",
    "import os\n",
    "from multiprocessing import  Pool\n",
    "import multiprocessing\n",
    "import datetime\n",
    "\n",
    "from functools import partial\n",
    "import numpy as np\n",
    "\n",
    "DATA_FOLDER = \"data\"\n",
    "INPUT_DATASET = \"batchdf\"\n",
    "OUTPUT_DATASET = \"dataset\"\n",
    "SIZES = ['-0.01', '-0.1', '']\n",
    "SELECTED_SIZE = 0"
   ]
  },
  {
   "cell_type": "code",
   "execution_count": 2,
   "id": "e7a0789a",
   "metadata": {},
   "outputs": [],
   "source": [
    "measure_groups = {     'South America': {         'providers': {             'AWS': ['sa-east-1'],             'AZURE': ['brazilsouth'],             'GCP': ['southamerica-east1']         },         'timezone': 'America/Sao_Paulo'     },     'Canada': {         'providers': {             'AWS': ['ca-central-1'],             'AZURE': [],             'GCP': ['northamerica-northeast1']         },         'timezone': 'America/Montreal'     },     'East US': {         'providers': {             'AWS': ['us-east-1'],             'AZURE': ['eastus'],             'GCP': ['us-east4']         },         'timezone': 'America/New_York'     },     'West US': {         'providers': {             'AWS': ['us-west-1', 'us-west-2'],             'AZURE': ['westus', 'westus2'],             'GCP': ['us-west2', 'us-west4']         },         'timezone': 'America/Los_Angeles'     },     'United Kingdom': {         'providers': {             'AWS': ['eu-west-2'],             'AZURE': ['uksouth'],             'GCP': ['europe-west2']         },         'timezone': 'Europe/London'     },     'Germany': {         'providers': {             'AWS': ['eu-central-1'],             'AZURE': ['germanywestcentral'],             'GCP': ['europe-west3']         },         'timezone': 'Europe/Berlin'     },     'India': {         'providers': {             'AWS': ['ap-south-1'],             'AZURE': ['centralindia'],             'GCP': ['asia-south1']         },         'timezone': 'Asia/Kolkata'     },     'Japan': {         'providers': {             'AWS': ['ap-northeast-1'],             'AZURE': ['japaneast'],             'GCP': ['asia-northeast1']         },         'timezone': 'Asia/Tokyo'     },     'Australia': {         'providers': {             'AWS': ['ap-southeast-2'],             'AZURE': ['australiaeast'],             'GCP': ['australia-southeast1']         },         'timezone': 'Australia/Sydney'     } }"
   ]
  },
  {
   "cell_type": "code",
   "execution_count": 3,
   "id": "3cb1ac84",
   "metadata": {},
   "outputs": [],
   "source": [
    "def DATASET_PATH(DATASET_NAME):\n",
    "    full_filename = f\"{DATASET_NAME}{SIZES[SELECTED_SIZE]}.parquet\"\n",
    "    return os.path.join(DATA_FOLDER, full_filename)"
   ]
  },
  {
   "cell_type": "code",
   "execution_count": 4,
   "id": "bfc56980",
   "metadata": {},
   "outputs": [],
   "source": [
    "dataset = pd.read_parquet(DATASET_PATH(INPUT_DATASET)).convert_dtypes()"
   ]
  },
  {
   "cell_type": "code",
   "execution_count": 5,
   "id": "fb6803fb",
   "metadata": {},
   "outputs": [],
   "source": [
    "# Turn dataset into datetime:\n",
    "dataset['driver_invocation'] = pd.to_datetime(\n",
    "    dataset['driver_invocation'], format='%Y%m%dT%H%M%S%f')\n",
    "dataset['workload_invocation'] = pd.to_datetime(\n",
    "    dataset['workload_invocation'], format='%Y%m%dT%H%M%S%f')"
   ]
  },
  {
   "cell_type": "code",
   "execution_count": 6,
   "id": "4e0daf42",
   "metadata": {},
   "outputs": [],
   "source": [
    "# Cut Off Data\n",
    "data_from = datetime.datetime(year=2021,month=8,day=1)\n",
    "data_to = datetime.datetime(year=2021,month=10,day=1)\n",
    "\n",
    "dataset = dataset[dataset['driver_invocation'] >= data_from]\n",
    "dataset = dataset[dataset['driver_invocation'] < data_to]"
   ]
  },
  {
   "cell_type": "code",
   "execution_count": 7,
   "id": "88856897",
   "metadata": {},
   "outputs": [],
   "source": [
    "# Preprocessing based on utc:\n",
    "dataset['dow_utc'] = dataset['driver_invocation'].dt.day_name()\n",
    "dataset['tod_utc'] = dataset['driver_invocation'].dt.strftime('%H%M')"
   ]
  },
  {
   "cell_type": "code",
   "execution_count": 8,
   "id": "89a747d1",
   "metadata": {},
   "outputs": [],
   "source": [
    "# Localize Timezones for driver invocation\n",
    "for mg in measure_groups:\n",
    "    regions = []\n",
    "    for provider in measure_groups[mg]['providers']:\n",
    "        regions.extend(measure_groups[mg]['providers'][provider])\n",
    "\n",
    "    dataset.loc[(dataset['region'].isin(regions)),\n",
    "                'timezone'] = measure_groups[mg]['timezone']\n",
    "    dataset.loc[(dataset['region'].isin(regions)), 'measure group'] = mg"
   ]
  },
  {
   "cell_type": "code",
   "execution_count": 9,
   "id": "90428b99",
   "metadata": {},
   "outputs": [],
   "source": [
    "def get_local_dow_of_the_week(df):\n",
    "    ts = df['driver_invocation']\n",
    "    tz = df['timezone']\n",
    "    return  ts.tz_localize('utc').tz_convert(tz).day_name()\n",
    "\n",
    "def get_local_tod_of_the_week(df):\n",
    "    ts = df['driver_invocation']\n",
    "    tz = df['timezone']\n",
    "    return ts.tz_localize('utc').tz_convert(tz).strftime('%H%M')\n",
    "\n",
    "def parallelize(data, func, num_of_processes=8):\n",
    "    data_split = np.array_split(data, num_of_processes)\n",
    "    pool = Pool(num_of_processes)\n",
    "    data = pd.concat(pool.map(func, data_split))\n",
    "    pool.close()\n",
    "    pool.join()\n",
    "    return data\n",
    "\n",
    "def run_on_subset(func, data_subset):\n",
    "    return data_subset.apply(func, axis=1)\n",
    "\n",
    "def parallelize_on_rows(data, func):\n",
    "    return parallelize(data, partial(run_on_subset, func), multiprocessing.cpu_count())"
   ]
  },
  {
   "cell_type": "code",
   "execution_count": 10,
   "id": "58489375",
   "metadata": {},
   "outputs": [],
   "source": [
    "dataset['local_dow'] = parallelize_on_rows(dataset[['driver_invocation', 'timezone']], get_local_dow_of_the_week) \n",
    "dataset['local_tod'] = parallelize_on_rows(dataset[['driver_invocation', 'timezone']], get_local_tod_of_the_week) "
   ]
  },
  {
   "cell_type": "code",
   "execution_count": 11,
   "id": "15768d3a",
   "metadata": {},
   "outputs": [],
   "source": [
    "dataset[['local_dow', 'local_tod']] = dataset[['local_dow', 'local_tod']].astype('category')"
   ]
  },
  {
   "cell_type": "code",
   "execution_count": 12,
   "id": "5f3add6d",
   "metadata": {},
   "outputs": [],
   "source": [
    "dataset = dataset.convert_dtypes()"
   ]
  },
  {
   "cell_type": "code",
   "execution_count": 13,
   "id": "3b0b402d",
   "metadata": {},
   "outputs": [],
   "source": [
    "custom_dtypes = {\n",
    "    'SAAFMemoryDeltaError': 'category',\n",
    "    'SAAFMemoryError': 'category',\n",
    "    'vendorId': 'category',\n",
    "    'platform': 'category',\n",
    "    'payload': 'category',\n",
    "    'functionRegion': 'category',\n",
    "    'linuxVersion': 'category',\n",
    "    'lang': 'category',\n",
    "    'functionName': 'category',\n",
    "    'cpuType': 'category',\n",
    "    'provider': 'category',\n",
    "    'timezone': 'category',\n",
    "    'region': 'category',\n",
    "    'dow_utc': 'category',\n",
    "    'tod_utc': 'category',\n",
    "    'measure group': 'category',\n",
    "    'cpuModel': 'category',\n",
    "    '2_thread_id': 'int64',\n",
    "    '1_run_id': 'int64',\n",
    "    'newcontainer': 'bool',\n",
    "    'platform': 'category',\n",
    "    'version': 'category',\n",
    "    'containerID': 'category',\n",
    "}"
   ]
  },
  {
   "cell_type": "code",
   "execution_count": 14,
   "id": "6894b074",
   "metadata": {},
   "outputs": [],
   "source": [
    "for column, dtype in custom_dtypes.items():\n",
    "    dataset[column] = dataset[column].astype(dtype)"
   ]
  },
  {
   "cell_type": "code",
   "execution_count": 15,
   "id": "1c6326df",
   "metadata": {},
   "outputs": [],
   "source": [
    "# for col in dataset.columns:\n",
    "#     print(f\"--- {col} ---\")\n",
    "#     print(dataset[col].dtypes)\n",
    "#     print(dataset[col].describe())\n",
    "#     print(dataset[col].memory_usage())"
   ]
  },
  {
   "cell_type": "code",
   "execution_count": 16,
   "id": "68e7dd56",
   "metadata": {},
   "outputs": [],
   "source": [
    "# Drop Columns\n",
    "drop_cols = ['message', 'payload', 'platform', 'lang', 'cpuNiceDelta', 'cpuIrq', 'version', 'vendorId', 'functionRegion', ]\n",
    "dataset = dataset.drop(drop_cols, axis = 1)"
   ]
  },
  {
   "cell_type": "code",
   "execution_count": 17,
   "id": "94ec8d34",
   "metadata": {},
   "outputs": [
    {
     "data": {
      "text/plain": [
       "187645892"
      ]
     },
     "execution_count": 17,
     "metadata": {},
     "output_type": "execute_result"
    }
   ],
   "source": [
    "dataset.sort_values(['driver_invocation', 'provider', 'region', 'workload_invocation', '1_run_id'], inplace=True, ignore_index=True)\n",
    "dataset.memory_usage().sum()"
   ]
  },
  {
   "cell_type": "code",
   "execution_count": 18,
   "id": "3cdf7696",
   "metadata": {},
   "outputs": [],
   "source": [
    "dataset.to_parquet(DATASET_PATH(OUTPUT_DATASET), index=False)"
   ]
  }
 ],
 "metadata": {
  "kernelspec": {
   "display_name": "Python 3 (ipykernel)",
   "language": "python",
   "name": "python3"
  },
  "language_info": {
   "codemirror_mode": {
    "name": "ipython",
    "version": 3
   },
   "file_extension": ".py",
   "mimetype": "text/x-python",
   "name": "python",
   "nbconvert_exporter": "python",
   "pygments_lexer": "ipython3",
   "version": "3.8.10"
  }
 },
 "nbformat": 4,
 "nbformat_minor": 5
}
