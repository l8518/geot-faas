{
 "cells": [
  {
   "cell_type": "code",
   "execution_count": 23,
   "id": "6f036b5a",
   "metadata": {},
   "outputs": [],
   "source": [
    "import datetime\n",
    "import os\n",
    "import matplotlib\n",
    "import matplotlib.dates as mdates\n",
    "import matplotlib.pyplot as plt\n",
    "import numpy as np\n",
    "import pandas as pd\n",
    "import matplotlib.ticker\n",
    "\n",
    "from notebook_shared import utils\n",
    "\n",
    "from statsmodels.tsa.seasonal import seasonal_decompose\n",
    "from pandas import Series\n",
    "\n",
    "import seaborn as sns\n",
    "sns.set()\n",
    "matplotlib.style.use('seaborn-colorblind')\n",
    "\n",
    "INPUT_FILE = \"dataset\"\n",
    "FSIZE = \"full\"\n",
    "CM = 1/2.54  # centimeters to inches conversion\n",
    "\n",
    "df = pd.read_parquet(utils.get_dataset_path(INPUT_FILE, FSIZE))"
   ]
  },
  {
   "cell_type": "code",
   "execution_count": 24,
   "id": "a80d3613",
   "metadata": {},
   "outputs": [],
   "source": [
    "runtime_cov_df = df.groupby( ['provider'])['runtime'].apply(utils.cov).dropna().reset_index(name='Runtime CV').set_index(['provider'])\n",
    "runtime_cov_df = runtime_cov_df*100\n",
    "resp_df = df.groupby( ['provider', 'driver_invocation']).size().reset_index(name='counts')"
   ]
  },
  {
   "cell_type": "code",
   "execution_count": 25,
   "id": "501c8d1b",
   "metadata": {
    "scrolled": true
   },
   "outputs": [
    {
     "data": {
      "image/png": "[encoded data removed]",
      "text/plain": [
       "<Figure size 1003.46x141.732 with 4 Axes>"
      ]
     },
     "metadata": {},
     "output_type": "display_data"
    },
    {
     "name": "stdout",
     "output_type": "stream",
     "text": [
      "data \n",
      "              runtime                                                     \\\n",
      "               count        mean        std    min    25%    50%    75%   \n",
      "provider                                                                  \n",
      "AWS       17356677.0   69.076503  10.711193   31.0   62.0   67.0   75.0   \n",
      "AZURE     15178984.0   62.759923  20.410365   24.0   51.0   64.0   73.0   \n",
      "GCP       17399939.0  481.646313  92.050537  105.0  434.0  476.0  534.0   \n",
      "\n",
      "                  roundTripTime                                           \\\n",
      "              max         count        mean          std     min     25%   \n",
      "provider                                                                   \n",
      "AWS        1855.0    17356677.0  125.927253   678.183618   57.98   99.84   \n",
      "AZURE     13352.0    15178984.0  974.357431  1217.238140   55.49  121.13   \n",
      "GCP        8112.0    17399939.0  566.802942   221.952345  181.69  496.13   \n",
      "\n",
      "                                      \n",
      "             50%      75%        max  \n",
      "provider                              \n",
      "AWS       108.90   118.95  131310.20  \n",
      "AZURE     282.37  2294.65  122701.37  \n",
      "GCP       537.30   599.77  176555.17  \n",
      "respdata \n",
      "           counts                                                           \\\n",
      "           count         mean         std     min     25%     50%     75%   \n",
      "provider                                                                    \n",
      "AWS       2901.0  5982.997932  185.616875   600.0  6000.0  6000.0  6000.0   \n",
      "AZURE     2901.0  5232.328163  284.268837     0.0  5192.0  5314.0  5395.0   \n",
      "GCP       2901.0  5997.910720   32.952829  4800.0  6000.0  6000.0  6000.0   \n",
      "\n",
      "                  \n",
      "             max  \n",
      "provider          \n",
      "AWS       6600.0  \n",
      "AZURE     6000.0  \n",
      "GCP       6000.0  \n",
      "runtime_cv \n",
      "          Runtime CV                                                  \\\n",
      "              count       mean std        min        25%        50%   \n",
      "provider                                                              \n",
      "AWS             1.0  15.506275 NaN  15.506275  15.506275  15.506275   \n",
      "AZURE           1.0  32.521335 NaN  32.521335  32.521335  32.521335   \n",
      "GCP             1.0  19.111646 NaN  19.111646  19.111646  19.111646   \n",
      "\n",
      "                                \n",
      "                75%        max  \n",
      "provider                        \n",
      "AWS       15.506275  15.506275  \n",
      "AZURE     32.521335  32.521335  \n",
      "GCP       19.111646  19.111646  \n"
     ]
    }
   ],
   "source": [
    "factor=2\n",
    "sns.set(font_scale=1.7)\n",
    "sns.set_style(\"ticks\",{'axes.grid' : True})\n",
    "\n",
    "# Plot Coefficient Of Variation Per Cloud Provider:\n",
    "fig, axes = plt.subplots(figsize=(17.7*CM*factor, 2.5*CM*factor), ncols=4, nrows=1, frameon=False, sharex=True)\n",
    "max_nticks = 5\n",
    "\n",
    "runtime_bx_ax = axes[0]\n",
    "runtime_cov_ax = axes[1]\n",
    "roundtrip_bx_ax = axes[2]\n",
    "respcount_bx_ax = axes[3]\n",
    "\n",
    "def set_provider_labels(x):\n",
    "    label = x.get_text()[1:].split(',')[0]\n",
    "    if label == \"AZURE\":\n",
    "        label = \"Azure\"\n",
    "    return label\n",
    "\n",
    "# Runtime COV\n",
    "runtime_cov_df.plot(kind='bar', ax=runtime_cov_ax)\n",
    "runtime_cov_ax.set_xlabel('')\n",
    "runtime_cov_ax.set_ylabel('Runtime\\nCV [%]')\n",
    "runtime_cov_ax.get_legend().remove()\n",
    "# quick fix:\n",
    "labels = runtime_cov_ax.get_xticklabels()\n",
    "labels[1].set_text('Azure')\n",
    "runtime_cov_ax.set_xticklabels(labels, rotation=0)\n",
    "\n",
    "#\n",
    "ax = runtime_cov_ax\n",
    "ax.set_ylim(min(ax.get_yticks()), max(ax.get_yticks()))\n",
    "ax.yaxis.set_major_locator(matplotlib.ticker.LinearLocator(max_nticks))\n",
    "\n",
    "# Boxplot Runtime\n",
    "df_boxplot = df[['provider', 'runtime']].sort_values(by=['provider']).groupby(['provider'], observed=True)\n",
    "ax = utils.boxplot(runtime_bx_ax, df_boxplot, 'Runtime [ms]', set_provider_labels, with_mean=True, nticks=max_nticks)\n",
    "ax.set_ylim(0, 700)\n",
    "\n",
    "# Boxplot RTT\n",
    "df_boxplot = df[['provider', 'roundTripTime']].sort_values(by=['provider']).groupby(['provider'], observed=True)\n",
    "ax = utils.boxplot(roundtrip_bx_ax, df_boxplot, 'RTT [ms]', set_provider_labels, with_mean=True, nticks=max_nticks)\n",
    "ax.set_ylim(0, 6000)\n",
    "\n",
    "# Boxplot Successfull Responses\n",
    "df_boxplot = resp_df[['provider', 'counts']].sort_values(by=['provider']).groupby(['provider'], observed=True)\n",
    "ax = utils.boxplot(respcount_bx_ax, df_boxplot, 'SRC (count)', set_provider_labels, with_mean=True, nticks=max_nticks)\n",
    "ax.set_ylim(4600, 6200)\n",
    "\n",
    "d = .025  # how big to make the diagonal lines in axes coordinates\n",
    "shift = 0.03\n",
    "\n",
    "# arguments to pass to plot, just so we don't keep repeating them\n",
    "kwargs = dict(transform=ax.transAxes, color='k', clip_on=False, lw=2)\n",
    "# bottom-left diagonal\n",
    "ax.plot((-d, +d), (-d, +d), **kwargs)\n",
    "# bottom-left diagonal\n",
    "ax.plot((-d, +d), (-d+shift, +d+shift), **kwargs)\n",
    "\n",
    "fig.tight_layout(pad=0)\n",
    "plt.subplots_adjust(hspace=0, wspace=0.5)\n",
    "\n",
    "data = df[['provider', 'runtime', 'roundTripTime']].groupby(['provider'], observed=True).describe()\n",
    "utils.plot(['provider_analysis', 'pa_provider_mean_cov'], \n",
    "            data=data,\n",
    "            respdata=resp_df.groupby(['provider']).describe(),\n",
    "            runtime_cv=runtime_cov_df.groupby(['provider']).describe()\n",
    "          )"
   ]
  },
  {
   "cell_type": "code",
   "execution_count": null,
   "id": "f7e07ec5",
   "metadata": {},
   "outputs": [],
   "source": [
    "rtt_cov_df = df.groupby( ['provider'], observed=True)['roundTripTime'].apply(utils.cov).dropna().reset_index(name='Round Trip Time CV').set_index(['provider'])\n",
    "rtt_cov_df"
   ]
  },
  {
   "cell_type": "code",
   "execution_count": null,
   "id": "8c1ddd4e",
   "metadata": {},
   "outputs": [],
   "source": [
    "rtt_cov_df.groupby('provider')\n",
    "fig, axes = plt.subplots(figsize=(5,5))\n",
    "    \n",
    "bxdf = rtt_cov_df.reset_index().groupby(['provider'])\n",
    "rtt_cov_df.plot.bar(ax=axes)\n",
    "\n",
    "utils.savefig(fig, ['provider_analysis', f'rtt_cv_boxplot'], data=rtt_cov_df)"
   ]
  }
 ],
 "metadata": {
  "kernelspec": {
   "display_name": "Python 3 (ipykernel)",
   "language": "python",
   "name": "python3"
  },
  "language_info": {
   "codemirror_mode": {
    "name": "ipython",
    "version": 3
   },
   "file_extension": ".py",
   "mimetype": "text/x-python",
   "name": "python",
   "nbconvert_exporter": "python",
   "pygments_lexer": "ipython3",
   "version": "3.8.10"
  },
  "vscode": {
   "interpreter": {
    "hash": "31f2aee4e71d21fbe5cf8b01ff0e069b9275f58929596ceb00d14d90e3e16cd6"
   }
  }
 },
 "nbformat": 4,
 "nbformat_minor": 5
}
