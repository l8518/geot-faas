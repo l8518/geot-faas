{
 "cells": [
  {
   "cell_type": "code",
   "execution_count": 1,
   "id": "6f036b5a",
   "metadata": {},
   "outputs": [],
   "source": [
    "import datetime\n",
    "import os\n",
    "import matplotlib\n",
    "import matplotlib.dates as mdates\n",
    "import matplotlib.pyplot as plt\n",
    "import numpy as np\n",
    "import pandas as pd\n",
    "\n",
    "from statsmodels.tsa.seasonal import seasonal_decompose\n",
    "from pandas import Series\n",
    "\n",
    "import seaborn as sns\n",
    "sns.set()\n",
    "matplotlib.style.use('seaborn-colorblind')\n",
    "\n",
    "def DATASET_PATH(DATASET_NAME):\n",
    "    full_filename = f\"{DATASET_NAME}{SIZES[SELECTED_SIZE]}.parquet\"\n",
    "    return os.path.join(DATA_FOLDER, full_filename)\n",
    "\n",
    "def PLOT(name, **kwdata):\n",
    "    if not os.path.isdir(PLOT_FOLDER):\n",
    "       os.makedirs(PLOT_FOLDER)\n",
    "    plt.savefig(os.path.join(PLOT_FOLDER, f\"{name}.pdf\"))\n",
    "    plt.show()\n",
    "    plt.close()\n",
    "    for key in kwdata:\n",
    "        data = kwdata[key]\n",
    "        str_resp = str(data)\n",
    "        with open(os.path.join(PLOT_FOLDER, f\"{name}_{key}.txt\"), 'w') as f:\n",
    "            f.write(str_resp)\n",
    "            print(key, \"\\n\", str_resp)\n",
    "    \n",
    "    \n",
    "\n",
    "DATA_FOLDER = \"data\"\n",
    "PLOT_FOLDER = \"plots\"\n",
    "INPUT_FILE = \"dataset\"\n",
    "SIZES = ['-0.01', '-0.1', '']\n",
    "SELECTED_SIZE = 0"
   ]
  },
  {
   "cell_type": "code",
   "execution_count": 2,
   "id": "f3d800fa",
   "metadata": {},
   "outputs": [],
   "source": [
    "df = pd.read_parquet(DATASET_PATH(INPUT_FILE))"
   ]
  },
  {
   "cell_type": "code",
   "execution_count": 3,
   "id": "e5c3bb6b",
   "metadata": {},
   "outputs": [],
   "source": [
    "cov = lambda x: np.std(x, ddof=1) / np.mean(x) "
   ]
  },
  {
   "cell_type": "code",
   "execution_count": 4,
   "id": "a80d3613",
   "metadata": {},
   "outputs": [],
   "source": [
    "runtime_cov_df = df.groupby( ['provider'])['runtime'].apply(cov).dropna().reset_index(name='Runtime CV').set_index(['provider'])\n",
    "resp_df = df.groupby( ['provider', 'driver_invocation']).size().reset_index(name='counts')"
   ]
  },
  {
   "cell_type": "code",
   "execution_count": 5,
   "id": "3ff71c8f",
   "metadata": {},
   "outputs": [],
   "source": [
    "def boxplot(ax, df, ytitle):\n",
    "    fig = ax.get_figure()\n",
    "    gs = ax.get_subplotspec()\n",
    "    ax.remove()\n",
    "    ax = fig.add_subplot(gs)\n",
    "\n",
    "    df.boxplot(subplots=False, ax=ax, showfliers=False)\n",
    "\n",
    "    labels = []\n",
    "    for tick in ax.get_xticklabels():\n",
    "      provider = tick.get_text()[1:].split(',')[0]\n",
    "      labels.append(f\"{provider}\")\n",
    "    ax.set_xticklabels(labels)\n",
    "    ax.set_ylabel(ytitle)\n",
    "    plt.setp(ax.get_xticklabels(), rotation=0)"
   ]
  },
  {
   "cell_type": "code",
   "execution_count": 6,
   "id": "501c8d1b",
   "metadata": {},
   "outputs": [
    {
     "data": {
      "image/png": "[encoded data removed]",
      "text/plain": [
       "<Figure size 1152x432 with 4 Axes>"
      ]
     },
     "metadata": {},
     "output_type": "display_data"
    },
    {
     "name": "stdout",
     "output_type": "stream",
     "text": [
      "data \n",
      "            runtime                                                             \\\n",
      "             count        mean        std    min    25%    50%    75%     max   \n",
      "provider                                                                        \n",
      "AWS       173566.0   69.073206  10.714942   31.0   62.0   67.0   75.0   567.0   \n",
      "AZURE     151962.0   62.751780  20.487580   26.0   51.0   64.0   73.0  4066.0   \n",
      "GCP       174008.0  481.566261  91.113365  130.0  434.0  476.0  534.0  4290.0   \n",
      "\n",
      "         roundTripTime                                                    \\\n",
      "                 count        mean          std     min     25%      50%   \n",
      "provider                                                                   \n",
      "AWS           173566.0  124.796232   551.590142   68.77   99.82  108.860   \n",
      "AZURE         151962.0  972.913213  1200.538127   60.40  121.14  282.545   \n",
      "GCP           174008.0  566.612940   195.953561  210.82  496.00  536.680   \n",
      "\n",
      "                             \n",
      "              75%       max  \n",
      "provider                     \n",
      "AWS        118.94  65553.14  \n",
      "AZURE     2295.10  18005.04  \n",
      "GCP        599.90  12317.54  \n",
      "respdata \n",
      "             counts\n",
      "count  8703.000000\n",
      "mean     57.398139\n",
      "std       4.056930\n",
      "min       0.000000\n",
      "25%      54.000000\n",
      "50%      60.000000\n",
      "75%      60.000000\n",
      "max      66.000000\n"
     ]
    }
   ],
   "source": [
    "\n",
    "# Plot Coefficient Of Variation Per Cloud Provider:\n",
    "fig, axes = plt.subplots(figsize=(16,6), ncols=4, nrows=1, frameon=False, sharex=True)\n",
    "\n",
    "runtime_bx_ax = axes[0]\n",
    "runtime_cov_ax = axes[1]\n",
    "roundtrip_bx_ax = axes[2]\n",
    "respcount_bx_ax = axes[3]\n",
    "\n",
    "# Runtime COV\n",
    "runtime_cov_df.plot(kind='bar', ax=runtime_cov_ax)\n",
    "runtime_cov_ax.set_xlabel('')\n",
    "runtime_cov_ax.set_ylabel('Runtime CV')\n",
    "runtime_cov_ax.get_legend().remove()\n",
    "plt.setp(runtime_cov_ax.get_xticklabels(), rotation=0)\n",
    "\n",
    "# Boxplot Runtime\n",
    "## Setup Boxplot Axes\n",
    "df_boxplot = df[['provider', 'runtime']].sort_values(by=['provider']).groupby(['provider'], observed=True)\n",
    "boxplot(runtime_bx_ax, df_boxplot, 'Runtime')\n",
    "\n",
    "df_boxplot = df[['provider', 'roundTripTime']].sort_values(by=['provider']).groupby(['provider'], observed=True)\n",
    "boxplot(roundtrip_bx_ax, df_boxplot, 'Round Trip Time')\n",
    "\n",
    "df_boxplot = resp_df[['provider', 'counts']].sort_values(by=['provider']).groupby(['provider'], observed=True)\n",
    "boxplot(respcount_bx_ax, df_boxplot, 'Response Count')\n",
    "\n",
    "fig.tight_layout()\n",
    "\n",
    "data = df[['provider', 'runtime', 'roundTripTime']].groupby(['provider'], observed=True).describe()\n",
    "PLOT('provider_mean_cov', data=data, respdata=resp_df.describe())"
   ]
  }
 ],
 "metadata": {
  "kernelspec": {
   "display_name": "Python 3 (ipykernel)",
   "language": "python",
   "name": "python3"
  },
  "language_info": {
   "codemirror_mode": {
    "name": "ipython",
    "version": 3
   },
   "file_extension": ".py",
   "mimetype": "text/x-python",
   "name": "python",
   "nbconvert_exporter": "python",
   "pygments_lexer": "ipython3",
   "version": "3.8.10"
  }
 },
 "nbformat": 4,
 "nbformat_minor": 5
}
