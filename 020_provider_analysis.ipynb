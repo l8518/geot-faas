{
 "cells": [
  {
   "cell_type": "code",
   "execution_count": 1,
   "id": "6f036b5a",
   "metadata": {},
   "outputs": [],
   "source": [
    "import datetime\n",
    "import os\n",
    "import matplotlib\n",
    "import matplotlib.dates as mdates\n",
    "import matplotlib.pyplot as plt\n",
    "import numpy as np\n",
    "import pandas as pd\n",
    "\n",
    "from notebook_shared import utils\n",
    "\n",
    "from statsmodels.tsa.seasonal import seasonal_decompose\n",
    "from pandas import Series\n",
    "\n",
    "import seaborn as sns\n",
    "sns.set()\n",
    "matplotlib.style.use('seaborn-colorblind')\n",
    "\n",
    "INPUT_FILE = \"dataset\"\n",
    "FSIZE = \"full\"\n",
    "\n",
    "df = pd.read_parquet(utils.get_dataset_path(INPUT_FILE, FSIZE))"
   ]
  },
  {
   "cell_type": "code",
   "execution_count": 2,
   "id": "a80d3613",
   "metadata": {},
   "outputs": [],
   "source": [
    "runtime_cov_df = df.groupby( ['provider'])['runtime'].apply(utils.cov).dropna().reset_index(name='Runtime CV').set_index(['provider'])\n",
    "resp_df = df.groupby( ['provider', 'driver_invocation']).size().reset_index(name='counts')"
   ]
  },
  {
   "cell_type": "code",
   "execution_count": null,
   "id": "501c8d1b",
   "metadata": {},
   "outputs": [],
   "source": [
    "sns.set(font_scale=1.4)\n",
    "\n",
    "# Plot Coefficient Of Variation Per Cloud Provider:\n",
    "fig, axes = plt.subplots(figsize=(16,6), ncols=4, nrows=1, frameon=False, sharex=True)\n",
    "\n",
    "runtime_bx_ax = axes[0]\n",
    "runtime_cov_ax = axes[1]\n",
    "roundtrip_bx_ax = axes[2]\n",
    "respcount_bx_ax = axes[3]\n",
    "\n",
    "# Runtime COV\n",
    "runtime_cov_df.plot(kind='bar', ax=runtime_cov_ax)\n",
    "runtime_cov_ax.set_xlabel('')\n",
    "runtime_cov_ax.set_ylabel('Runtime CV')\n",
    "runtime_cov_ax.get_legend().remove()\n",
    "plt.setp(runtime_cov_ax.get_xticklabels(), rotation=0)\n",
    "\n",
    "# Boxplot Runtime\n",
    "df_boxplot = df[['provider', 'runtime']].sort_values(by=['provider']).groupby(['provider'], observed=True)\n",
    "utils.boxplot(runtime_bx_ax, df_boxplot, 'Runtime', utils.tick_get_1st)\n",
    "\n",
    "df_boxplot = df[['provider', 'roundTripTime']].sort_values(by=['provider']).groupby(['provider'], observed=True)\n",
    "utils.boxplot(roundtrip_bx_ax, df_boxplot, 'Round Trip Time', utils.tick_get_1st)\n",
    "\n",
    "df_boxplot = resp_df[['provider', 'counts']].sort_values(by=['provider']).groupby(['provider'], observed=True)\n",
    "utils.boxplot(respcount_bx_ax, df_boxplot, 'Response Count', utils.tick_get_1st)\n",
    "\n",
    "fig.tight_layout()\n",
    "\n",
    "data = df[['provider', 'runtime', 'roundTripTime']].groupby(['provider'], observed=True).describe()\n",
    "utils.plot(['provider_analysis', 'pa_provider_mean_cov'], \n",
    "            data=data,\n",
    "            respdata=resp_df.groupby(['provider']).describe(),\n",
    "            runtime_cv=runtime_cov_df.groupby(['provider']).describe()\n",
    "          )"
   ]
  },
  {
   "cell_type": "code",
   "execution_count": null,
   "id": "f7e07ec5",
   "metadata": {},
   "outputs": [],
   "source": [
    "rtt_cov_df = df.groupby( ['provider'], observed=True)['roundTripTime'].apply(utils.cov).dropna().reset_index(name='Round Trip Time CV').set_index(['provider'])\n",
    "rtt_cov_df"
   ]
  },
  {
   "cell_type": "code",
   "execution_count": null,
   "id": "8c1ddd4e",
   "metadata": {},
   "outputs": [],
   "source": [
    "rtt_cov_df.groupby('provider')\n",
    "fig, axes = plt.subplots(figsize=(5,5))\n",
    "    \n",
    "bxdf = rtt_cov_df.reset_index().groupby(['provider'])\n",
    "rtt_cov_df.plot.bar(ax=axes)\n",
    "\n",
    "utils.savefig(fig, ['provider_analysis', f'rtt_cv_boxplot'], data=rtt_cov_df)"
   ]
  }
 ],
 "metadata": {
  "kernelspec": {
   "display_name": "Python 3 (ipykernel)",
   "language": "python",
   "name": "python3"
  },
  "language_info": {
   "codemirror_mode": {
    "name": "ipython",
    "version": 3
   },
   "file_extension": ".py",
   "mimetype": "text/x-python",
   "name": "python",
   "nbconvert_exporter": "python",
   "pygments_lexer": "ipython3",
   "version": "3.8.10"
  },
  "vscode": {
   "interpreter": {
    "hash": "31f2aee4e71d21fbe5cf8b01ff0e069b9275f58929596ceb00d14d90e3e16cd6"
   }
  }
 },
 "nbformat": 4,
 "nbformat_minor": 5
}
