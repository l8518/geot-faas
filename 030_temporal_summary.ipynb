{
 "cells": [
  {
   "cell_type": "code",
   "execution_count": 39,
   "id": "0bb795c1",
   "metadata": {},
   "outputs": [],
   "source": [
    "from IPython.display import display\n",
    "from IPython.display import Latex\n",
    "\n",
    "import pickle\n",
    "import os\n",
    "\n",
    "fdir = os.path.join('pickles', 'temporal_analysis')\n",
    "os.makedirs(fdir, exist_ok = True)\n",
    "\n",
    "with open(os.path.join(fdir, 'decomposition.p'), 'rb') as f:\n",
    "    # The protocol version used is detected automatically, so we do not\n",
    "    # have to specify it.\n",
    "    data = pickle.load(f)"
   ]
  },
  {
   "cell_type": "code",
   "execution_count": 13,
   "id": "548a3c8d",
   "metadata": {},
   "outputs": [
    {
     "data": {
      "text/plain": [
       "<Figure size 2400x1200 with 4 Axes>"
      ]
     },
     "execution_count": 13,
     "metadata": {},
     "output_type": "execute_result"
    }
   ],
   "source": [
    "data['half-hourly'][0]['result']['decompositon']['fig']"
   ]
  },
  {
   "cell_type": "code",
   "execution_count": 68,
   "id": "4f8fe57f",
   "metadata": {},
   "outputs": [],
   "source": [
    "def output_casetable(casetab):\n",
    "    output = \"\"\n",
    "\n",
    "    # output += r'\\begin{table}[]\\begin{tabular}{lll} &  &  \\\\ &  &  \\\\ &  & \\end{tabular}\\end{table}'\n",
    "    output += r'\\begin{table}[h]\\begin{tabular}{llllll}  '+ \"\\n\"\n",
    "    for provider, regions in casetab.items():\n",
    "        grp = provider\n",
    "        output += f' Provider & Region & Case 1 & Case 2 & Case 3 & Case 4 \\\\\\\\' + \"\\n\"\n",
    "        for region, case in regions.items():\n",
    "\n",
    "            case_1 = \"\"\n",
    "            if case == \"case_1\":\n",
    "                case_1 = \"X\"\n",
    "            case_2 = \"\"\n",
    "            if case == \"case_2\":\n",
    "                case_2 = \"X\"\n",
    "            case_3 = \"\"\n",
    "            if case == \"case_3\":\n",
    "                case_3 = \"X\"\n",
    "            case_4 = \"\"\n",
    "            if case == \"case_4\":\n",
    "                case_4 = \"X\"\n",
    "\n",
    "            output += f' {grp} & {region} & {case_1} & {case_2} & {case_3} & {case_4} \\\\\\\\' + \"\\n\"\n",
    "            grp = \"\"\n",
    "\n",
    "    output += r'\\end{tabular}\\end{table}'\n",
    "    return output"
   ]
  },
  {
   "cell_type": "code",
   "execution_count": 69,
   "id": "82ef322b",
   "metadata": {},
   "outputs": [],
   "source": [
    "def create_casetab(data):\n",
    "    casetab = {}\n",
    "    for result in data:\n",
    "        provider = result['provider']\n",
    "        region = result['region']\n",
    "\n",
    "        if provider not in casetab.keys():\n",
    "            casetab[provider] = {}\n",
    "\n",
    "        casetab[provider][region] = result['result']['stats_test']['case']\n",
    "    return casetab  "
   ]
  },
  {
   "cell_type": "code",
   "execution_count": 71,
   "id": "7aa8e99f",
   "metadata": {},
   "outputs": [
    {
     "data": {
      "text/latex": [
       "\\begin{table}[]\\begin{tabular}{llllll}  \n",
       " Provider & Region & Case 1 & Case 2 & Case 3 & Case 4 \\\\\n",
       " AWS & ap-northeast-1 &  &  &  & X \\\\\n",
       "  & ap-south-1 &  & X &  &  \\\\\n",
       "  & ap-southeast-2 &  & X &  &  \\\\\n",
       "  & ca-central-1 &  & X &  &  \\\\\n",
       "  & eu-central-1 &  & X &  &  \\\\\n",
       "  & eu-west-2 &  & X &  &  \\\\\n",
       "  & sa-east-1 &  &  &  & X \\\\\n",
       "  & us-east-1 &  &  &  & X \\\\\n",
       "  & us-west-1 &  & X &  &  \\\\\n",
       "  & us-west-2 &  & X &  &  \\\\\n",
       " Provider & Region & Case 1 & Case 2 & Case 3 & Case 4 \\\\\n",
       " AZURE & australiaeast &  &  &  & X \\\\\n",
       "  & brazilsouth &  & X &  &  \\\\\n",
       "  & centralindia &  & X &  &  \\\\\n",
       "  & eastus &  &  &  & X \\\\\n",
       "  & germanywestcentral &  &  &  & X \\\\\n",
       "  & japaneast &  &  & X &  \\\\\n",
       "  & uksouth &  & X &  &  \\\\\n",
       "  & westus &  &  &  & X \\\\\n",
       "  & westus2 &  & X &  &  \\\\\n",
       " Provider & Region & Case 1 & Case 2 & Case 3 & Case 4 \\\\\n",
       " GCP & asia-northeast1 & X &  &  &  \\\\\n",
       "  & asia-south1 &  &  & X &  \\\\\n",
       "  & australia-southeast1 &  &  & X &  \\\\\n",
       "  & europe-west2 &  &  & X &  \\\\\n",
       "  & europe-west3 &  &  & X &  \\\\\n",
       "  & northamerica-northeast1 &  &  & X &  \\\\\n",
       "  & southamerica-east1 &  &  & X &  \\\\\n",
       "  & us-east4 &  &  & X &  \\\\\n",
       "  & us-west2 &  &  & X &  \\\\\n",
       "  & us-west4 &  &  & X &  \\\\\n",
       "\\end{tabular}\\end{table}"
      ],
      "text/plain": [
       "<IPython.core.display.Latex object>"
      ]
     },
     "execution_count": 71,
     "metadata": {},
     "output_type": "execute_result"
    }
   ],
   "source": [
    "casetab = create_casetab(data['hourly'])\n",
    "output = output_casetable(casetab)\n",
    "Latex(output)"
   ]
  },
  {
   "cell_type": "code",
   "execution_count": 73,
   "id": "34e721ed",
   "metadata": {},
   "outputs": [
    {
     "data": {
      "text/latex": [
       "\\begin{table}[]\\begin{tabular}{llllll}  \n",
       " Provider & Region & Case 1 & Case 2 & Case 3 & Case 4 \\\\\n",
       " AWS & ap-northeast-1 & X &  &  &  \\\\\n",
       "  & ap-south-1 & X &  &  &  \\\\\n",
       "  & ap-southeast-2 & X &  &  &  \\\\\n",
       "  & ca-central-1 & X &  &  &  \\\\\n",
       "  & eu-central-1 & X &  &  &  \\\\\n",
       "  & eu-west-2 & X &  &  &  \\\\\n",
       "  & sa-east-1 & X &  &  &  \\\\\n",
       "  & us-east-1 & X &  &  &  \\\\\n",
       "  & us-west-1 & X &  &  &  \\\\\n",
       "  & us-west-2 & X &  &  &  \\\\\n",
       " Provider & Region & Case 1 & Case 2 & Case 3 & Case 4 \\\\\n",
       " AZURE & australiaeast & X &  &  &  \\\\\n",
       "  & brazilsouth & X &  &  &  \\\\\n",
       "  & centralindia & X &  &  &  \\\\\n",
       "  & eastus & X &  &  &  \\\\\n",
       "  & germanywestcentral & X &  &  &  \\\\\n",
       "  & japaneast & X &  &  &  \\\\\n",
       "  & uksouth & X &  &  &  \\\\\n",
       "  & westus & X &  &  &  \\\\\n",
       "  & westus2 & X &  &  &  \\\\\n",
       " Provider & Region & Case 1 & Case 2 & Case 3 & Case 4 \\\\\n",
       " GCP & asia-northeast1 & X &  &  &  \\\\\n",
       "  & asia-south1 & X &  &  &  \\\\\n",
       "  & australia-southeast1 & X &  &  &  \\\\\n",
       "  & europe-west2 & X &  &  &  \\\\\n",
       "  & europe-west3 & X &  &  &  \\\\\n",
       "  & northamerica-northeast1 & X &  &  &  \\\\\n",
       "  & southamerica-east1 & X &  &  &  \\\\\n",
       "  & us-east4 & X &  &  &  \\\\\n",
       "  & us-west2 & X &  &  &  \\\\\n",
       "  & us-west4 & X &  &  &  \\\\\n",
       "\\end{tabular}\\end{table}"
      ],
      "text/plain": [
       "<IPython.core.display.Latex object>"
      ]
     },
     "execution_count": 73,
     "metadata": {},
     "output_type": "execute_result"
    }
   ],
   "source": [
    "casetab = create_casetab(data['daily'])\n",
    "output = output_casetable(casetab)\n",
    "Latex(output)"
   ]
  },
  {
   "cell_type": "code",
   "execution_count": 35,
   "id": "3aa27b08",
   "metadata": {},
   "outputs": [],
   "source": [
    "from IPython.display import HTML, display\n",
    "\n",
    "\n",
    "def print_dict_as_html_table(some_dict):\n",
    "    \n",
    "        # create a list that will hold the html content  \n",
    "        # initialise with the <table> tag\n",
    "        html_list = [\"<table>\"]\n",
    "        \n",
    "        #iterate through the dictionary, appending row and element tags to the list\n",
    "        for key in some_dict.keys():\n",
    "            html_list.append(\"<tr>\")\n",
    "            html_list.append(\"<td>{0}</td>\".format(key))\n",
    "            html_list.append(\"<td>{0}</td>\".format(some_dict[key]))\n",
    "            html_list.append(\"</tr>\")\n",
    "            \n",
    "        # add the final </table> tag to the list\n",
    "        html_list.append(\"</table>\")\n",
    "        \n",
    "        # create a string from the list\n",
    "        html_string = ' '.join([str(elem) for elem in html_list])\n",
    "\n",
    "        #display the html \n",
    "        display(HTML(html_string))\n"
   ]
  },
  {
   "cell_type": "code",
   "execution_count": 37,
   "id": "c129a4b4",
   "metadata": {},
   "outputs": [
    {
     "data": {
      "text/html": [
       "<table> <tr> <td>AWS</td> <td>{'ap-northeast-1': 'case_4', 'ap-south-1': 'case_2', 'ap-southeast-2': 'case_2', 'ca-central-1': 'case_2', 'eu-central-1': 'case_2', 'eu-west-2': 'case_2', 'sa-east-1': 'case_4', 'us-east-1': 'case_4', 'us-west-1': 'case_2', 'us-west-2': 'case_2'}</td> </tr> <tr> <td>AZURE</td> <td>{'australiaeast': 'case_4', 'brazilsouth': 'case_2', 'centralindia': 'case_2', 'eastus': 'case_4', 'germanywestcentral': 'case_2', 'japaneast': 'case_3', 'uksouth': 'case_2', 'westus': 'case_4', 'westus2': 'case_2'}</td> </tr> <tr> <td>GCP</td> <td>{'asia-northeast1': 'case_1', 'asia-south1': 'case_3', 'australia-southeast1': 'case_3', 'europe-west2': 'case_3', 'europe-west3': 'case_3', 'northamerica-northeast1': 'case_3', 'southamerica-east1': 'case_3', 'us-east4': 'case_3', 'us-west2': 'case_3', 'us-west4': 'case_3'}</td> </tr> </table>"
      ],
      "text/plain": [
       "<IPython.core.display.HTML object>"
      ]
     },
     "metadata": {},
     "output_type": "display_data"
    }
   ],
   "source": [
    "print_dict_as_html_table(casetab)\n",
    "\n",
    "# display(casetab)"
   ]
  }
 ],
 "metadata": {
  "kernelspec": {
   "display_name": "Python 3 (ipykernel)",
   "language": "python",
   "name": "python3"
  },
  "language_info": {
   "codemirror_mode": {
    "name": "ipython",
    "version": 3
   },
   "file_extension": ".py",
   "mimetype": "text/x-python",
   "name": "python",
   "nbconvert_exporter": "python",
   "pygments_lexer": "ipython3",
   "version": "3.8.10"
  }
 },
 "nbformat": 4,
 "nbformat_minor": 5
}
