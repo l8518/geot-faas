{
 "cells": [
  {
   "cell_type": "code",
   "execution_count": 2,
   "id": "b4ccb4c8",
   "metadata": {},
   "outputs": [],
   "source": [
    "measure_groups = {\n",
    "    'South America': {\n",
    "        'providers': {\n",
    "            'AWS': ['sa-east-1'],\n",
    "            'AZURE': ['brazilsouth'],\n",
    "            'GCP': ['southamerica-east1']\n",
    "        },\n",
    "        'timezone': 'America/Sao_Paulo'\n",
    "    },\n",
    "    'Canada': {\n",
    "        'providers': {\n",
    "            'AWS': ['ca-central-1'],\n",
    "            'AZURE': [],\n",
    "            'GCP': ['northamerica-northeast1']\n",
    "        },\n",
    "        'timezone': 'America/Montreal'\n",
    "    },\n",
    "    'East US': {\n",
    "        'providers': {\n",
    "            'AWS': ['us-east-1'],\n",
    "            'AZURE': ['eastus'],\n",
    "            'GCP': ['us-east4']\n",
    "        },\n",
    "        'timezone': 'America/New_York'\n",
    "    },\n",
    "    'West US': {\n",
    "        'providers': {\n",
    "            'AWS': ['us-west-1', 'us-west-2'],\n",
    "            'AZURE': ['westus', 'westus2'],\n",
    "            'GCP': ['us-west2', 'us-west4']\n",
    "        },\n",
    "        'timezone': 'America/Los_Angeles'\n",
    "    },\n",
    "    'United Kingdom': {\n",
    "        'providers': {\n",
    "            'AWS': ['eu-west-2'],\n",
    "            'AZURE': ['uksouth'],\n",
    "            'GCP': ['europe-west2']\n",
    "        },\n",
    "        'timezone': 'Europe/London'\n",
    "    },\n",
    "    'Germany': {\n",
    "        'providers': {\n",
    "            'AWS': ['eu-central-1'],\n",
    "            'AZURE': ['germanywestcentral'],\n",
    "            'GCP': ['europe-west3']\n",
    "        },\n",
    "        'timezone': 'Europe/Berlin'\n",
    "    },\n",
    "    'India': {\n",
    "        'providers': {\n",
    "            'AWS': ['ap-south-1'],\n",
    "            'AZURE': ['centralindia'],\n",
    "            'GCP': ['asia-south1']\n",
    "        },\n",
    "        'timezone': 'Asia/Kolkata'\n",
    "    },\n",
    "    'Japan': {\n",
    "        'providers': {\n",
    "            'AWS': ['ap-northeast-1'],\n",
    "            'AZURE': ['japaneast'],\n",
    "            'GCP': ['asia-northeast1']\n",
    "        },\n",
    "        'timezone': 'Asia/Tokyo'\n",
    "    },\n",
    "    'Australia': {\n",
    "        'providers': {\n",
    "            'AWS': ['ap-southeast-2'],\n",
    "            'AZURE': ['australiaeast'],\n",
    "            'GCP': ['australia-southeast1']\n",
    "        },\n",
    "        'timezone': 'Australia/Sydney'\n",
    "    }\n",
    "}"
   ]
  },
  {
   "cell_type": "code",
   "execution_count": 3,
   "id": "65f6864a",
   "metadata": {},
   "outputs": [],
   "source": [
    "import pandas as pd\n",
    "from multiprocessing import  Pool\n",
    "import multiprocessing\n",
    "import datetime\n",
    "\n",
    "from functools import partial\n",
    "import numpy as np"
   ]
  },
  {
   "cell_type": "code",
   "execution_count": 4,
   "id": "efd8628f",
   "metadata": {},
   "outputs": [],
   "source": [
    "dataset = pd.read_parquet('raw-dataset.parquet').convert_dtypes()"
   ]
  },
  {
   "cell_type": "code",
   "execution_count": 5,
   "id": "91017f5f",
   "metadata": {},
   "outputs": [],
   "source": [
    "# Turn dataset into datetime:\n",
    "dataset['driver_invocation'] = pd.to_datetime(\n",
    "    dataset['driver_invocation'], format='%Y%m%dT%H%M%S%f')\n",
    "dataset['workload_invocation'] = pd.to_datetime(\n",
    "    dataset['workload_invocation'], format='%Y%m%dT%H%M%S%f')"
   ]
  },
  {
   "cell_type": "code",
   "execution_count": 6,
   "id": "aa145a56",
   "metadata": {},
   "outputs": [],
   "source": [
    "# Cut Off Data\n",
    "data_from = datetime.datetime(year=2021,month=8,day=1)\n",
    "dataset = dataset[dataset['driver_invocation'] >= data_from]"
   ]
  },
  {
   "cell_type": "code",
   "execution_count": 7,
   "id": "78b095da",
   "metadata": {},
   "outputs": [],
   "source": [
    "# Preprocessing based on utc:\n",
    "dataset['dow_utc'] = dataset['driver_invocation'].dt.day_name()\n",
    "dataset['tod_utc'] = dataset['driver_invocation'].dt.strftime('%H%M')"
   ]
  },
  {
   "cell_type": "code",
   "execution_count": 8,
   "id": "d39ae867",
   "metadata": {},
   "outputs": [],
   "source": [
    "# Localize Timezones for driver invocation\n",
    "for mg in measure_groups:\n",
    "    regions = []\n",
    "    for provider in measure_groups[mg]['providers']:\n",
    "        regions.extend(measure_groups[mg]['providers'][provider])\n",
    "\n",
    "    dataset.loc[(dataset['region'].isin(regions)),\n",
    "                'timezone'] = measure_groups[mg]['timezone']\n",
    "    dataset.loc[(dataset['region'].isin(regions)), 'measure group'] = mg"
   ]
  },
  {
   "cell_type": "code",
   "execution_count": 9,
   "id": "28f1c2a4",
   "metadata": {},
   "outputs": [],
   "source": [
    "def get_local_dow_of_the_week(df):\n",
    "    ts = df['driver_invocation']\n",
    "    tz = df['timezone']\n",
    "    return  ts.tz_localize('utc').tz_convert(tz).day_name()\n",
    "\n",
    "def get_local_tod_of_the_week(df):\n",
    "    ts = df['driver_invocation']\n",
    "    tz = df['timezone']\n",
    "    return ts.tz_localize('utc').tz_convert(tz).strftime('%H%M')\n",
    "\n",
    "def parallelize(data, func, num_of_processes=8):\n",
    "    data_split = np.array_split(data, num_of_processes)\n",
    "    pool = Pool(num_of_processes)\n",
    "    data = pd.concat(pool.map(func, data_split))\n",
    "    pool.close()\n",
    "    pool.join()\n",
    "    return data\n",
    "\n",
    "def run_on_subset(func, data_subset):\n",
    "    return data_subset.apply(func, axis=1)\n",
    "\n",
    "def parallelize_on_rows(data, func):\n",
    "    return parallelize(data, partial(run_on_subset, func), multiprocessing.cpu_count())"
   ]
  },
  {
   "cell_type": "code",
   "execution_count": 10,
   "id": "39f38ff4",
   "metadata": {},
   "outputs": [],
   "source": [
    "dataset['local_dow'] = parallelize_on_rows(dataset[['driver_invocation', 'timezone']], get_local_dow_of_the_week) \n",
    "dataset['local_tod'] = parallelize_on_rows(dataset[['driver_invocation', 'timezone']], get_local_tod_of_the_week) "
   ]
  },
  {
   "cell_type": "code",
   "execution_count": 11,
   "id": "5991a3da",
   "metadata": {},
   "outputs": [],
   "source": [
    "dataset[['local_dow', 'local_tod']] = dataset[['local_dow', 'local_tod']].astype('category')"
   ]
  },
  {
   "cell_type": "code",
   "execution_count": 12,
   "id": "b854cc02",
   "metadata": {},
   "outputs": [],
   "source": [
    "dataset.to_parquet(\"dataset-step-01.parquet\", index=False, engine=\"pyarrow\")"
   ]
  },
  {
   "cell_type": "code",
   "execution_count": null,
   "id": "0e0a08f6",
   "metadata": {},
   "outputs": [],
   "source": [
    "dataset = pd.read_parquet(\"dataset-step-01.parquet\")"
   ]
  },
  {
   "cell_type": "code",
   "execution_count": null,
   "id": "8e348c9d",
   "metadata": {},
   "outputs": [],
   "source": [
    "dataset.memory_usage().sum()"
   ]
  },
  {
   "cell_type": "code",
   "execution_count": null,
   "id": "cf5d8f28",
   "metadata": {},
   "outputs": [],
   "source": [
    "dataset = dataset.convert_dtypes()"
   ]
  },
  {
   "cell_type": "code",
   "execution_count": null,
   "id": "c232f4b5",
   "metadata": {},
   "outputs": [],
   "source": [
    "custom_dtypes = {\n",
    "    'SAAFMemoryDeltaError': 'category',\n",
    "    'SAAFMemoryError': 'category',\n",
    "    'vendorId': 'category',\n",
    "    'platform': 'category',\n",
    "    'payload': 'category',\n",
    "    'functionRegion': 'category',\n",
    "    'linuxVersion': 'category',\n",
    "    'lang': 'category',\n",
    "    'functionName': 'category',\n",
    "    'cpuType': 'category',\n",
    "    'provider': 'category',\n",
    "    'timezone': 'category',\n",
    "    'region': 'category',\n",
    "    'dow_utc': 'category',\n",
    "    'tod_utc': 'category',\n",
    "    'measure group': 'category',\n",
    "    'cpuModel': 'category',\n",
    "    '2_thread_id': 'category',\n",
    "    '1_run_id': 'category',\n",
    "    'newcontainer': 'bool',\n",
    "    'platform': 'category',\n",
    "    'version': 'category',\n",
    "    'containerID': 'category',\n",
    "}"
   ]
  },
  {
   "cell_type": "code",
   "execution_count": null,
   "id": "8365fe5b",
   "metadata": {},
   "outputs": [],
   "source": [
    "for column, dtype in custom_dtypes.items():\n",
    "    dataset[column] = dataset[column].astype(dtype)"
   ]
  },
  {
   "cell_type": "code",
   "execution_count": null,
   "id": "c59a19ea",
   "metadata": {},
   "outputs": [],
   "source": [
    "for col in dataset.columns:\n",
    "    print(f\"--- {col} ---\")\n",
    "    print(dataset[col].dtypes)\n",
    "    print(dataset[col].describe())\n",
    "    print(dataset[col].memory_usage())"
   ]
  },
  {
   "cell_type": "code",
   "execution_count": null,
   "id": "90efbc2f",
   "metadata": {},
   "outputs": [],
   "source": [
    "# Drop Columns\n",
    "drop_cols = ['message', 'payload']\n",
    "dataset = dataset.drop(drop_cols, axis = 1)"
   ]
  },
  {
   "cell_type": "code",
   "execution_count": null,
   "id": "64966837",
   "metadata": {},
   "outputs": [],
   "source": [
    "dataset.columns"
   ]
  },
  {
   "cell_type": "code",
   "execution_count": null,
   "id": "547f8445",
   "metadata": {
    "scrolled": true
   },
   "outputs": [],
   "source": [
    "dataset.dtypes"
   ]
  },
  {
   "cell_type": "code",
   "execution_count": null,
   "id": "30e7595f",
   "metadata": {},
   "outputs": [],
   "source": [
    "dataset.memory_usage().sum()"
   ]
  },
  {
   "cell_type": "code",
   "execution_count": null,
   "id": "9d4c7368",
   "metadata": {},
   "outputs": [],
   "source": [
    "dataset.to_parquet(\"dataset-compressed.parquet\", index=False, engine=\"pyarrow\")"
   ]
  },
  {
   "cell_type": "code",
   "execution_count": null,
   "id": "79af99fc",
   "metadata": {
    "scrolled": true
   },
   "outputs": [],
   "source": [
    "# 17379823784\n",
    "# 15807614178\n",
    "# 19158897503"
   ]
  }
 ],
 "metadata": {
  "kernelspec": {
   "display_name": "Python 3 (ipykernel)",
   "language": "python",
   "name": "python3"
  },
  "language_info": {
   "codemirror_mode": {
    "name": "ipython",
    "version": 3
   },
   "file_extension": ".py",
   "mimetype": "text/x-python",
   "name": "python",
   "nbconvert_exporter": "python",
   "pygments_lexer": "ipython3",
   "version": "3.8.10"
  }
 },
 "nbformat": 4,
 "nbformat_minor": 5
}
