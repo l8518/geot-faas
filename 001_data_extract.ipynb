{
 "cells": [
  {
   "cell_type": "code",
   "execution_count": 1,
   "id": "f9646abb",
   "metadata": {},
   "outputs": [],
   "source": [
    "import multiprocessing\n",
    "import os\n",
    "import shutil\n",
    "import sys\n",
    "import tarfile\n",
    "from concurrent.futures import ThreadPoolExecutor\n",
    "from pathlib import Path\n",
    "from tqdm import tqdm"
   ]
  },
  {
   "cell_type": "code",
   "execution_count": 2,
   "id": "15475132",
   "metadata": {},
   "outputs": [
    {
     "name": "stdout",
     "output_type": "stream",
     "text": [
      "Enter experiment name:gtbf\n"
     ]
    }
   ],
   "source": [
    "# Get Experimentname\n",
    "if len(sys.argv) == 2:\n",
    "    experimentname = sys.argv[1]\n",
    "else:\n",
    "    experimentname = input(\"Enter experiment name:\")\n",
    "\n",
    "download_path = os.path.join(\"./data/downloaded/\", experimentname)\n",
    "tmp_extracted_path = os.path.join(\"./data/extract/\", experimentname)\n",
    "Path(download_path).mkdir(parents=True, exist_ok=True)\n",
    "Path(tmp_extracted_path).mkdir(parents=True, exist_ok=True)\n",
    "\n",
    "# Fetch all files from directory + upload\n",
    "downloaded_files = sorted(os.listdir(download_path))\n",
    "extracted_files = sorted(os.listdir(tmp_extracted_path))"
   ]
  },
  {
   "cell_type": "code",
   "execution_count": 3,
   "id": "090b52ae",
   "metadata": {},
   "outputs": [],
   "source": [
    "def extract(file):\n",
    "    fp = os.path.join(download_path, file)\n",
    "\n",
    "    # If JSON File:\n",
    "    if fp.endswith('.json'):\n",
    "        if file in extracted_files:\n",
    "            return\n",
    "\n",
    "        shutil.copy2(fp, os.path.join(tmp_extracted_path, file))\n",
    "    else:\n",
    "        folder_name = file.replace('.tar.gz', '')\n",
    "        if folder_name in extracted_files:\n",
    "            return\n",
    "        try:\n",
    "            tf = tarfile.open(fp, mode='r:*')\n",
    "            targetpath = os.path.join(tmp_extracted_path, folder_name)\n",
    "            tf.extract(tf.getmember(os.path.join('.', 'saafdemo-basicExperiment-0MBs-run0.csv')), targetpath)\n",
    "            tf.close()\n",
    "        except Exception as ex:\n",
    "            # TODO: files cannot be found --> extract out or mark as error\n",
    "            template = \"An exception of type {0} occurred. Arguments:\\n{1!r}\"\n",
    "            message = template.format(type(ex).__name__, ex.args)\n",
    "            print(message)"
   ]
  },
  {
   "cell_type": "code",
   "execution_count": 4,
   "id": "71562b24",
   "metadata": {},
   "outputs": [
    {
     "name": "stderr",
     "output_type": "stream",
     "text": [
      "  6%|▌         | 5098/91524 [05:40<1:57:54, 12.22it/s]"
     ]
    },
    {
     "name": "stdout",
     "output_type": "stream",
     "text": [
      "An exception of type KeyError occurred. Arguments:\n",
      "(\"filename './saafdemo-basicExperiment-0MBs-run0.csv' not found\",)\n"
     ]
    },
    {
     "name": "stderr",
     "output_type": "stream",
     "text": [
      "  7%|▋         | 6818/91524 [07:33<1:19:59, 17.65it/s]"
     ]
    },
    {
     "name": "stdout",
     "output_type": "stream",
     "text": [
      "An exception of type KeyError occurred. Arguments:\n",
      "(\"filename './saafdemo-basicExperiment-0MBs-run0.csv' not found\",)\n"
     ]
    },
    {
     "name": "stderr",
     "output_type": "stream",
     "text": [
      "  7%|▋         | 6841/91524 [07:34<1:28:50, 15.89it/s]"
     ]
    },
    {
     "name": "stdout",
     "output_type": "stream",
     "text": [
      "An exception of type KeyError occurred. Arguments:\n",
      "(\"filename './saafdemo-basicExperiment-0MBs-run0.csv' not found\",)\n"
     ]
    },
    {
     "name": "stderr",
     "output_type": "stream",
     "text": [
      "  8%|▊         | 7287/91524 [08:04<1:21:29, 17.23it/s]"
     ]
    },
    {
     "name": "stdout",
     "output_type": "stream",
     "text": [
      "An exception of type KeyError occurred. Arguments:\n",
      "(\"filename './saafdemo-basicExperiment-0MBs-run0.csv' not found\",)\n"
     ]
    },
    {
     "name": "stderr",
     "output_type": "stream",
     "text": [
      "  8%|▊         | 7349/91524 [08:08<1:56:36, 12.03it/s]"
     ]
    },
    {
     "name": "stdout",
     "output_type": "stream",
     "text": [
      "An exception of type KeyError occurred. Arguments:\n",
      "(\"filename './saafdemo-basicExperiment-0MBs-run0.csv' not found\",)\n"
     ]
    },
    {
     "name": "stderr",
     "output_type": "stream",
     "text": [
      "  9%|▉         | 8192/91524 [09:03<1:20:19, 17.29it/s]"
     ]
    },
    {
     "name": "stdout",
     "output_type": "stream",
     "text": [
      "An exception of type KeyError occurred. Arguments:\n",
      "(\"filename './saafdemo-basicExperiment-0MBs-run0.csv' not found\",)\n"
     ]
    },
    {
     "name": "stderr",
     "output_type": "stream",
     "text": [
      "  9%|▉         | 8518/91524 [09:24<1:17:53, 17.76it/s]"
     ]
    },
    {
     "name": "stdout",
     "output_type": "stream",
     "text": [
      "An exception of type KeyError occurred. Arguments:\n",
      "(\"filename './saafdemo-basicExperiment-0MBs-run0.csv' not found\",)\n"
     ]
    },
    {
     "name": "stderr",
     "output_type": "stream",
     "text": [
      "  9%|▉         | 8666/91524 [09:33<57:26, 24.04it/s]  "
     ]
    },
    {
     "name": "stdout",
     "output_type": "stream",
     "text": [
      "An exception of type KeyError occurred. Arguments:\n",
      "(\"filename './saafdemo-basicExperiment-0MBs-run0.csv' not found\",)\n"
     ]
    },
    {
     "name": "stderr",
     "output_type": "stream",
     "text": [
      " 10%|▉         | 8715/91524 [09:37<1:37:51, 14.10it/s]"
     ]
    },
    {
     "name": "stdout",
     "output_type": "stream",
     "text": [
      "An exception of type KeyError occurred. Arguments:\n",
      "(\"filename './saafdemo-basicExperiment-0MBs-run0.csv' not found\",)\n"
     ]
    },
    {
     "name": "stderr",
     "output_type": "stream",
     "text": [
      " 10%|█         | 9267/91524 [10:13<52:39, 26.04it/s]  "
     ]
    },
    {
     "name": "stdout",
     "output_type": "stream",
     "text": [
      "An exception of type KeyError occurred. Arguments:\n",
      "(\"filename './saafdemo-basicExperiment-0MBs-run0.csv' not found\",)\n"
     ]
    },
    {
     "name": "stderr",
     "output_type": "stream",
     "text": [
      " 10%|█         | 9297/91524 [10:15<1:05:41, 20.86it/s]"
     ]
    },
    {
     "name": "stdout",
     "output_type": "stream",
     "text": [
      "An exception of type KeyError occurred. Arguments:\n",
      "(\"filename './saafdemo-basicExperiment-0MBs-run0.csv' not found\",)\n"
     ]
    },
    {
     "name": "stderr",
     "output_type": "stream",
     "text": [
      " 10%|█         | 9377/91524 [10:20<1:24:04, 16.28it/s]"
     ]
    },
    {
     "name": "stdout",
     "output_type": "stream",
     "text": [
      "An exception of type KeyError occurred. Arguments:\n",
      "(\"filename './saafdemo-basicExperiment-0MBs-run0.csv' not found\",)\n"
     ]
    },
    {
     "name": "stderr",
     "output_type": "stream",
     "text": [
      " 11%|█         | 9707/91524 [10:41<1:35:49, 14.23it/s]"
     ]
    },
    {
     "name": "stdout",
     "output_type": "stream",
     "text": [
      "An exception of type KeyError occurred. Arguments:\n",
      "(\"filename './saafdemo-basicExperiment-0MBs-run0.csv' not found\",)\n"
     ]
    },
    {
     "name": "stderr",
     "output_type": "stream",
     "text": [
      " 11%|█         | 9987/91524 [10:59<1:03:47, 21.30it/s]"
     ]
    },
    {
     "name": "stdout",
     "output_type": "stream",
     "text": [
      "An exception of type KeyError occurred. Arguments:\n",
      "(\"filename './saafdemo-basicExperiment-0MBs-run0.csv' not found\",)\n"
     ]
    },
    {
     "name": "stderr",
     "output_type": "stream",
     "text": [
      " 11%|█         | 10010/91524 [11:01<1:23:07, 16.34it/s]"
     ]
    },
    {
     "name": "stdout",
     "output_type": "stream",
     "text": [
      "An exception of type KeyError occurred. Arguments:\n",
      "(\"filename './saafdemo-basicExperiment-0MBs-run0.csv' not found\",)\n"
     ]
    },
    {
     "name": "stderr",
     "output_type": "stream",
     "text": [
      " 11%|█         | 10285/91524 [11:18<1:25:51, 15.77it/s]"
     ]
    },
    {
     "name": "stdout",
     "output_type": "stream",
     "text": [
      "An exception of type KeyError occurred. Arguments:\n",
      "(\"filename './saafdemo-basicExperiment-0MBs-run0.csv' not found\",)\n"
     ]
    },
    {
     "name": "stderr",
     "output_type": "stream",
     "text": [
      " 11%|█▏        | 10491/91524 [11:31<1:10:58, 19.03it/s]"
     ]
    },
    {
     "name": "stdout",
     "output_type": "stream",
     "text": [
      "An exception of type KeyError occurred. Arguments:\n",
      "(\"filename './saafdemo-basicExperiment-0MBs-run0.csv' not found\",)\n"
     ]
    },
    {
     "name": "stderr",
     "output_type": "stream",
     "text": [
      " 12%|█▏        | 10883/91524 [11:58<1:25:43, 15.68it/s]"
     ]
    },
    {
     "name": "stdout",
     "output_type": "stream",
     "text": [
      "An exception of type KeyError occurred. Arguments:\n",
      "(\"filename './saafdemo-basicExperiment-0MBs-run0.csv' not found\",)\n",
      "An exception of type KeyError occurred. Arguments:\n",
      "(\"filename './saafdemo-basicExperiment-0MBs-run0.csv' not found\",)\n"
     ]
    },
    {
     "name": "stderr",
     "output_type": "stream",
     "text": [
      " 12%|█▏        | 10969/91524 [12:03<1:37:15, 13.81it/s]"
     ]
    },
    {
     "name": "stdout",
     "output_type": "stream",
     "text": [
      "An exception of type KeyError occurred. Arguments:\n",
      "(\"filename './saafdemo-basicExperiment-0MBs-run0.csv' not found\",)\n"
     ]
    },
    {
     "name": "stderr",
     "output_type": "stream",
     "text": [
      " 12%|█▏        | 11031/91524 [12:07<1:22:07, 16.33it/s]"
     ]
    },
    {
     "name": "stdout",
     "output_type": "stream",
     "text": [
      "An exception of type KeyError occurred. Arguments:\n",
      "(\"filename './saafdemo-basicExperiment-0MBs-run0.csv' not found\",)\n"
     ]
    },
    {
     "name": "stderr",
     "output_type": "stream",
     "text": [
      " 12%|█▏        | 11061/91524 [12:09<1:05:17, 20.54it/s]"
     ]
    },
    {
     "name": "stdout",
     "output_type": "stream",
     "text": [
      "An exception of type KeyError occurred. Arguments:\n",
      "(\"filename './saafdemo-basicExperiment-0MBs-run0.csv' not found\",)\n"
     ]
    },
    {
     "name": "stderr",
     "output_type": "stream",
     "text": [
      " 12%|█▏        | 11132/91524 [12:13<1:19:41, 16.81it/s]"
     ]
    },
    {
     "name": "stdout",
     "output_type": "stream",
     "text": [
      "An exception of type KeyError occurred. Arguments:\n",
      "(\"filename './saafdemo-basicExperiment-0MBs-run0.csv' not found\",)\n"
     ]
    },
    {
     "name": "stderr",
     "output_type": "stream",
     "text": [
      " 12%|█▏        | 11192/91524 [12:17<1:22:34, 16.21it/s]"
     ]
    },
    {
     "name": "stdout",
     "output_type": "stream",
     "text": [
      "An exception of type KeyError occurred. Arguments:\n",
      "(\"filename './saafdemo-basicExperiment-0MBs-run0.csv' not found\",)\n"
     ]
    },
    {
     "name": "stderr",
     "output_type": "stream",
     "text": [
      " 12%|█▏        | 11342/91524 [12:27<1:59:48, 11.15it/s]"
     ]
    },
    {
     "name": "stdout",
     "output_type": "stream",
     "text": [
      "An exception of type KeyError occurred. Arguments:\n",
      "(\"filename './saafdemo-basicExperiment-0MBs-run0.csv' not found\",)\n"
     ]
    },
    {
     "name": "stderr",
     "output_type": "stream",
     "text": [
      " 12%|█▏        | 11419/91524 [12:32<1:28:20, 15.11it/s]"
     ]
    },
    {
     "name": "stdout",
     "output_type": "stream",
     "text": [
      "An exception of type KeyError occurred. Arguments:\n",
      "(\"filename './saafdemo-basicExperiment-0MBs-run0.csv' not found\",)\n"
     ]
    },
    {
     "name": "stderr",
     "output_type": "stream",
     "text": [
      " 13%|█▎        | 11576/91524 [12:43<52:36, 25.32it/s]  "
     ]
    },
    {
     "name": "stdout",
     "output_type": "stream",
     "text": [
      "An exception of type KeyError occurred. Arguments:\n",
      "(\"filename './saafdemo-basicExperiment-0MBs-run0.csv' not found\",)\n"
     ]
    },
    {
     "name": "stderr",
     "output_type": "stream",
     "text": [
      " 13%|█▎        | 11604/91524 [12:45<1:26:18, 15.43it/s]"
     ]
    },
    {
     "name": "stdout",
     "output_type": "stream",
     "text": [
      "An exception of type KeyError occurred. Arguments:\n",
      "(\"filename './saafdemo-basicExperiment-0MBs-run0.csv' not found\",)\n"
     ]
    },
    {
     "name": "stderr",
     "output_type": "stream",
     "text": [
      " 13%|█▎        | 11632/91524 [12:46<1:25:35, 15.56it/s]"
     ]
    },
    {
     "name": "stdout",
     "output_type": "stream",
     "text": [
      "An exception of type KeyError occurred. Arguments:\n",
      "(\"filename './saafdemo-basicExperiment-0MBs-run0.csv' not found\",)\n"
     ]
    },
    {
     "name": "stderr",
     "output_type": "stream",
     "text": [
      " 13%|█▎        | 11665/91524 [12:48<57:20, 23.21it/s]  "
     ]
    },
    {
     "name": "stdout",
     "output_type": "stream",
     "text": [
      "An exception of type KeyError occurred. Arguments:\n",
      "(\"filename './saafdemo-basicExperiment-0MBs-run0.csv' not found\",)\n"
     ]
    },
    {
     "name": "stderr",
     "output_type": "stream",
     "text": [
      " 13%|█▎        | 11718/91524 [12:52<1:40:13, 13.27it/s]"
     ]
    },
    {
     "name": "stdout",
     "output_type": "stream",
     "text": [
      "An exception of type KeyError occurred. Arguments:\n",
      "(\"filename './saafdemo-basicExperiment-0MBs-run0.csv' not found\",)\n"
     ]
    },
    {
     "name": "stderr",
     "output_type": "stream",
     "text": [
      " 13%|█▎        | 11752/91524 [12:54<1:17:49, 17.09it/s]"
     ]
    },
    {
     "name": "stdout",
     "output_type": "stream",
     "text": [
      "An exception of type KeyError occurred. Arguments:\n",
      "(\"filename './saafdemo-basicExperiment-0MBs-run0.csv' not found\",)\n"
     ]
    },
    {
     "name": "stderr",
     "output_type": "stream",
     "text": [
      " 13%|█▎        | 11873/91524 [13:02<1:03:14, 20.99it/s]"
     ]
    },
    {
     "name": "stdout",
     "output_type": "stream",
     "text": [
      "An exception of type KeyError occurred. Arguments:\n",
      "(\"filename './saafdemo-basicExperiment-0MBs-run0.csv' not found\",)\n"
     ]
    },
    {
     "name": "stderr",
     "output_type": "stream",
     "text": [
      " 13%|█▎        | 12141/91524 [13:19<1:21:08, 16.30it/s]"
     ]
    },
    {
     "name": "stdout",
     "output_type": "stream",
     "text": [
      "An exception of type KeyError occurred. Arguments:\n",
      "(\"filename './saafdemo-basicExperiment-0MBs-run0.csv' not found\",)\n"
     ]
    },
    {
     "name": "stderr",
     "output_type": "stream",
     "text": [
      " 14%|█▎        | 12384/91524 [13:34<1:01:26, 21.47it/s]"
     ]
    },
    {
     "name": "stdout",
     "output_type": "stream",
     "text": [
      "An exception of type KeyError occurred. Arguments:\n",
      "(\"filename './saafdemo-basicExperiment-0MBs-run0.csv' not found\",)\n"
     ]
    },
    {
     "name": "stderr",
     "output_type": "stream",
     "text": [
      " 14%|█▎        | 12416/91524 [13:36<1:11:15, 18.50it/s]"
     ]
    },
    {
     "name": "stdout",
     "output_type": "stream",
     "text": [
      "An exception of type KeyError occurred. Arguments:\n",
      "(\"filename './saafdemo-basicExperiment-0MBs-run0.csv' not found\",)\n"
     ]
    },
    {
     "name": "stderr",
     "output_type": "stream",
     "text": [
      " 14%|█▎        | 12475/91524 [13:40<57:48, 22.79it/s]  "
     ]
    },
    {
     "name": "stdout",
     "output_type": "stream",
     "text": [
      "An exception of type KeyError occurred. Arguments:\n",
      "(\"filename './saafdemo-basicExperiment-0MBs-run0.csv' not found\",)\n"
     ]
    },
    {
     "name": "stderr",
     "output_type": "stream",
     "text": [
      " 14%|█▎        | 12508/91524 [13:42<1:30:21, 14.58it/s]"
     ]
    },
    {
     "name": "stdout",
     "output_type": "stream",
     "text": [
      "An exception of type KeyError occurred. Arguments:\n",
      "(\"filename './saafdemo-basicExperiment-0MBs-run0.csv' not found\",)\n"
     ]
    },
    {
     "name": "stderr",
     "output_type": "stream",
     "text": [
      " 14%|█▍        | 13130/91524 [14:22<1:22:26, 15.85it/s]"
     ]
    },
    {
     "name": "stdout",
     "output_type": "stream",
     "text": [
      "An exception of type KeyError occurred. Arguments:\n",
      "(\"filename './saafdemo-basicExperiment-0MBs-run0.csv' not found\",)\n"
     ]
    },
    {
     "name": "stderr",
     "output_type": "stream",
     "text": [
      " 15%|█▍        | 13324/91524 [14:35<1:35:35, 13.63it/s]"
     ]
    },
    {
     "name": "stdout",
     "output_type": "stream",
     "text": [
      "An exception of type KeyError occurred. Arguments:\n",
      "(\"filename './saafdemo-basicExperiment-0MBs-run0.csv' not found\",)\n"
     ]
    },
    {
     "name": "stderr",
     "output_type": "stream",
     "text": [
      " 15%|█▍        | 13653/91524 [14:57<1:24:54, 15.29it/s]"
     ]
    },
    {
     "name": "stdout",
     "output_type": "stream",
     "text": [
      "An exception of type KeyError occurred. Arguments:\n",
      "(\"filename './saafdemo-basicExperiment-0MBs-run0.csv' not found\",)\n"
     ]
    },
    {
     "name": "stderr",
     "output_type": "stream",
     "text": [
      " 38%|███▊      | 34956/91524 [38:11<1:00:26, 15.60it/s]"
     ]
    },
    {
     "name": "stdout",
     "output_type": "stream",
     "text": [
      "An exception of type KeyError occurred. Arguments:\n",
      "(\"filename './saafdemo-basicExperiment-0MBs-run0.csv' not found\",)\n"
     ]
    },
    {
     "name": "stderr",
     "output_type": "stream",
     "text": [
      " 50%|████▉     | 45425/91524 [49:35<54:40, 14.05it/s]  "
     ]
    },
    {
     "name": "stdout",
     "output_type": "stream",
     "text": [
      "An exception of type KeyError occurred. Arguments:\n",
      "(\"filename './saafdemo-basicExperiment-0MBs-run0.csv' not found\",)\n"
     ]
    },
    {
     "name": "stderr",
     "output_type": "stream",
     "text": [
      " 50%|████▉     | 45457/91524 [49:37<1:00:28, 12.70it/s]"
     ]
    },
    {
     "name": "stdout",
     "output_type": "stream",
     "text": [
      "An exception of type KeyError occurred. Arguments:\n",
      "(\"filename './saafdemo-basicExperiment-0MBs-run0.csv' not found\",)\n"
     ]
    },
    {
     "name": "stderr",
     "output_type": "stream",
     "text": [
      " 50%|████▉     | 45483/91524 [49:39<1:01:51, 12.40it/s]"
     ]
    },
    {
     "name": "stdout",
     "output_type": "stream",
     "text": [
      "An exception of type KeyError occurred. Arguments:\n",
      "(\"filename './saafdemo-basicExperiment-0MBs-run0.csv' not found\",)\n"
     ]
    },
    {
     "name": "stderr",
     "output_type": "stream",
     "text": [
      " 50%|████▉     | 45517/91524 [49:41<1:06:55, 11.46it/s]"
     ]
    },
    {
     "name": "stdout",
     "output_type": "stream",
     "text": [
      "An exception of type KeyError occurred. Arguments:\n",
      "(\"filename './saafdemo-basicExperiment-0MBs-run0.csv' not found\",)\n"
     ]
    },
    {
     "name": "stderr",
     "output_type": "stream",
     "text": [
      " 50%|████▉     | 45550/91524 [49:43<41:27, 18.48it/s]  "
     ]
    },
    {
     "name": "stdout",
     "output_type": "stream",
     "text": [
      "An exception of type KeyError occurred. Arguments:\n",
      "(\"filename './saafdemo-basicExperiment-0MBs-run0.csv' not found\",)\n"
     ]
    },
    {
     "name": "stderr",
     "output_type": "stream",
     "text": [
      " 50%|████▉     | 45561/91524 [49:44<59:05, 12.96it/s]"
     ]
    },
    {
     "name": "stdout",
     "output_type": "stream",
     "text": [
      "An exception of type KeyError occurred. Arguments:\n",
      "(\"filename './saafdemo-basicExperiment-0MBs-run0.csv' not found\",)\n"
     ]
    },
    {
     "name": "stderr",
     "output_type": "stream",
     "text": [
      " 50%|████▉     | 45597/91524 [49:46<49:00, 15.62it/s]  "
     ]
    },
    {
     "name": "stdout",
     "output_type": "stream",
     "text": [
      "An exception of type KeyError occurred. Arguments:\n",
      "(\"filename './saafdemo-basicExperiment-0MBs-run0.csv' not found\",)\n"
     ]
    },
    {
     "name": "stderr",
     "output_type": "stream",
     "text": [
      " 50%|████▉     | 45623/91524 [49:48<37:37, 20.33it/s]  "
     ]
    },
    {
     "name": "stdout",
     "output_type": "stream",
     "text": [
      "An exception of type KeyError occurred. Arguments:\n",
      "(\"filename './saafdemo-basicExperiment-0MBs-run0.csv' not found\",)\n"
     ]
    },
    {
     "name": "stderr",
     "output_type": "stream",
     "text": [
      " 50%|████▉     | 45666/91524 [49:51<40:16, 18.98it/s]  "
     ]
    },
    {
     "name": "stdout",
     "output_type": "stream",
     "text": [
      "An exception of type KeyError occurred. Arguments:\n",
      "(\"filename './saafdemo-basicExperiment-0MBs-run0.csv' not found\",)\n"
     ]
    },
    {
     "name": "stderr",
     "output_type": "stream",
     "text": [
      " 50%|████▉     | 45681/91524 [49:52<59:52, 12.76it/s]  "
     ]
    },
    {
     "name": "stdout",
     "output_type": "stream",
     "text": [
      "An exception of type KeyError occurred. Arguments:\n",
      "(\"filename './saafdemo-basicExperiment-0MBs-run0.csv' not found\",)\n"
     ]
    },
    {
     "name": "stderr",
     "output_type": "stream",
     "text": [
      " 50%|████▉     | 45714/91524 [49:54<43:21, 17.61it/s]  "
     ]
    },
    {
     "name": "stdout",
     "output_type": "stream",
     "text": [
      "An exception of type KeyError occurred. Arguments:\n",
      "(\"filename './saafdemo-basicExperiment-0MBs-run0.csv' not found\",)\n"
     ]
    },
    {
     "name": "stderr",
     "output_type": "stream",
     "text": [
      " 96%|█████████▌| 87800/91524 [1:35:51<03:20, 18.56it/s]  "
     ]
    },
    {
     "name": "stdout",
     "output_type": "stream",
     "text": [
      "An exception of type KeyError occurred. Arguments:\n",
      "(\"filename './saafdemo-basicExperiment-0MBs-run0.csv' not found\",)\n"
     ]
    },
    {
     "name": "stderr",
     "output_type": "stream",
     "text": [
      "100%|██████████| 91524/91524 [1:39:53<00:00, 15.27it/s]\n"
     ]
    }
   ],
   "source": [
    "result = []\n",
    "workers = multiprocessing.cpu_count()\n",
    "with ThreadPoolExecutor(max_workers=workers) as tpe:\n",
    "    result = list(tqdm(tpe.map(extract, downloaded_files), total=len(downloaded_files)))"
   ]
  }
 ],
 "metadata": {
  "kernelspec": {
   "display_name": "Python 3 (ipykernel)",
   "language": "python",
   "name": "python3"
  },
  "language_info": {
   "codemirror_mode": {
    "name": "ipython",
    "version": 3
   },
   "file_extension": ".py",
   "mimetype": "text/x-python",
   "name": "python",
   "nbconvert_exporter": "python",
   "pygments_lexer": "ipython3",
   "version": "3.8.10"
  }
 },
 "nbformat": 4,
 "nbformat_minor": 5
}
