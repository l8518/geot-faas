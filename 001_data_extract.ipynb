{
 "cells": [
  {
   "cell_type": "code",
   "execution_count": 1,
   "id": "f9646abb",
   "metadata": {},
   "outputs": [],
   "source": [
    "import multiprocessing\n",
    "import os\n",
    "import shutil\n",
    "import sys\n",
    "import tarfile\n",
    "from concurrent.futures import ThreadPoolExecutor\n",
    "from pathlib import Path\n",
    "from tqdm import tqdm"
   ]
  },
  {
   "cell_type": "code",
   "execution_count": 2,
   "id": "15475132",
   "metadata": {},
   "outputs": [
    {
     "name": "stdout",
     "output_type": "stream",
     "text": [
      "Enter experiment name:gtbf\n"
     ]
    }
   ],
   "source": [
    "# Get Experimentname\n",
    "if len(sys.argv) == 2:\n",
    "    experimentname = sys.argv[1]\n",
    "else:\n",
    "    experimentname = input(\"Enter experiment name:\")\n",
    "\n",
    "download_path = os.path.join(\"./data/downloaded/\", experimentname)\n",
    "tmp_extracted_path = os.path.join(\"./data/extract/\", experimentname)\n",
    "Path(download_path).mkdir(parents=True, exist_ok=True)\n",
    "Path(tmp_extracted_path).mkdir(parents=True, exist_ok=True)\n",
    "\n",
    "# Fetch all files from directory + upload\n",
    "downloaded_files = sorted(os.listdir(download_path))\n",
    "extracted_files = sorted(os.listdir(tmp_extracted_path))"
   ]
  },
  {
   "cell_type": "code",
   "execution_count": 3,
   "id": "090b52ae",
   "metadata": {},
   "outputs": [],
   "source": [
    "def extract(file):\n",
    "    fp = os.path.join(download_path, file)\n",
    "\n",
    "    # If JSON File:\n",
    "    if fp.endswith('.json'):\n",
    "        if file in extracted_files:\n",
    "            return\n",
    "\n",
    "        shutil.copy2(fp, os.path.join(tmp_extracted_path, file))\n",
    "    else:\n",
    "        folder_name = file.replace('.tar.gz', '')\n",
    "        if folder_name in extracted_files:\n",
    "            return\n",
    "        try:\n",
    "            tf = tarfile.open(fp, mode='r:*')\n",
    "            targetpath = os.path.join(tmp_extracted_path, folder_name)\n",
    "            tf.extract(tf.getmember(os.path.join('.', 'saafdemo-basicExperiment-0MBs-run0.csv')), targetpath)\n",
    "            tf.close()\n",
    "        except Exception as ex:\n",
    "            # TODO: files cannot be found --> extract out or mark as error\n",
    "            template = \"An exception of type {0} occurred. Arguments:\\n{1!r}\"\n",
    "            message = template.format(type(ex).__name__, ex.args)\n",
    "            print(message)"
   ]
  },
  {
   "cell_type": "code",
   "execution_count": 4,
   "id": "71562b24",
   "metadata": {},
   "outputs": [
    {
     "name": "stdout",
     "output_type": "stream",
     "text": [
      "An exception of type KeyError occurred. Arguments:\n",
      "(\"filename './saafdemo-basicExperiment-0MBs-run0.csv' not found\",)\n",
      "An exception of type KeyError occurred. Arguments:\n",
      "(\"filename './saafdemo-basicExperiment-0MBs-run0.csv' not found\",)\n",
      "An exception of type KeyError occurred. Arguments:\n",
      "(\"filename './saafdemo-basicExperiment-0MBs-run0.csv' not found\",)\n",
      "An exception of type KeyError occurred. Arguments:\n",
      "(\"filename './saafdemo-basicExperiment-0MBs-run0.csv' not found\",)\n",
      "An exception of type KeyError occurred. Arguments:\n",
      "(\"filename './saafdemo-basicExperiment-0MBs-run0.csv' not found\",)\n",
      "An exception of type KeyError occurred. Arguments:\n",
      "(\"filename './saafdemo-basicExperiment-0MBs-run0.csv' not found\",)\n",
      "An exception of type KeyError occurred. Arguments:\n",
      "(\"filename './saafdemo-basicExperiment-0MBs-run0.csv' not found\",)\n",
      "An exception of type KeyError occurred. Arguments:\n",
      "(\"filename './saafdemo-basicExperiment-0MBs-run0.csv' not found\",)\n",
      "An exception of type KeyError occurred. Arguments:\n",
      "(\"filename './saafdemo-basicExperiment-0MBs-run0.csv' not found\",)\n",
      "An exception of type KeyError occurred. Arguments:\n",
      "(\"filename './saafdemo-basicExperiment-0MBs-run0.csv' not found\",)\n",
      "An exception of type KeyError occurred. Arguments:\n",
      "(\"filename './saafdemo-basicExperiment-0MBs-run0.csv' not found\",)\n",
      "An exception of type KeyError occurred. Arguments:\n",
      "(\"filename './saafdemo-basicExperiment-0MBs-run0.csv' not found\",)\n",
      "An exception of type KeyError occurred. Arguments:\n",
      "(\"filename './saafdemo-basicExperiment-0MBs-run0.csv' not found\",)\n",
      "An exception of type KeyError occurred. Arguments:\n",
      "(\"filename './saafdemo-basicExperiment-0MBs-run0.csv' not found\",)\n",
      "An exception of type KeyError occurred. Arguments:\n",
      "(\"filename './saafdemo-basicExperiment-0MBs-run0.csv' not found\",)\n",
      "An exception of type KeyError occurred. Arguments:\n",
      "(\"filename './saafdemo-basicExperiment-0MBs-run0.csv' not found\",)\n",
      "An exception of type KeyError occurred. Arguments:\n",
      "(\"filename './saafdemo-basicExperiment-0MBs-run0.csv' not found\",)\n",
      "An exception of type KeyError occurred. Arguments:\n",
      "(\"filename './saafdemo-basicExperiment-0MBs-run0.csv' not found\",)\n",
      "An exception of type KeyError occurred. Arguments:\n",
      "(\"filename './saafdemo-basicExperiment-0MBs-run0.csv' not found\",)\n",
      "An exception of type KeyError occurred. Arguments:\n",
      "(\"filename './saafdemo-basicExperiment-0MBs-run0.csv' not found\",)\n",
      "An exception of type KeyError occurred. Arguments:\n",
      "(\"filename './saafdemo-basicExperiment-0MBs-run0.csv' not found\",)\n",
      "An exception of type KeyError occurred. Arguments:\n",
      "(\"filename './saafdemo-basicExperiment-0MBs-run0.csv' not found\",)\n",
      "An exception of type KeyError occurred. Arguments:\n",
      "(\"filename './saafdemo-basicExperiment-0MBs-run0.csv' not found\",)\n",
      "An exception of type KeyError occurred. Arguments:\n",
      "(\"filename './saafdemo-basicExperiment-0MBs-run0.csv' not found\",)\n",
      "An exception of type KeyError occurred. Arguments:\n",
      "(\"filename './saafdemo-basicExperiment-0MBs-run0.csv' not found\",)\n",
      "An exception of type KeyError occurred. Arguments:\n",
      "(\"filename './saafdemo-basicExperiment-0MBs-run0.csv' not found\",)\n",
      "An exception of type KeyError occurred. Arguments:\n",
      "(\"filename './saafdemo-basicExperiment-0MBs-run0.csv' not found\",)\n",
      "An exception of type KeyError occurred. Arguments:\n",
      "(\"filename './saafdemo-basicExperiment-0MBs-run0.csv' not found\",)\n",
      "An exception of type KeyError occurred. Arguments:\n",
      "(\"filename './saafdemo-basicExperiment-0MBs-run0.csv' not found\",)\n",
      "An exception of type KeyError occurred. Arguments:\n",
      "(\"filename './saafdemo-basicExperiment-0MBs-run0.csv' not found\",)\n",
      "An exception of type KeyError occurred. Arguments:\n",
      "(\"filename './saafdemo-basicExperiment-0MBs-run0.csv' not found\",)\n",
      "An exception of type KeyError occurred. Arguments:\n",
      "(\"filename './saafdemo-basicExperiment-0MBs-run0.csv' not found\",)\n",
      "An exception of type KeyError occurred. Arguments:\n",
      "(\"filename './saafdemo-basicExperiment-0MBs-run0.csv' not found\",)\n",
      "An exception of type KeyError occurred. Arguments:\n",
      "(\"filename './saafdemo-basicExperiment-0MBs-run0.csv' not found\",)\n",
      "An exception of type KeyError occurred. Arguments:\n",
      "(\"filename './saafdemo-basicExperiment-0MBs-run0.csv' not found\",)\n",
      "An exception of type KeyError occurred. Arguments:\n",
      "(\"filename './saafdemo-basicExperiment-0MBs-run0.csv' not found\",)\n",
      "An exception of type KeyError occurred. Arguments:\n",
      "(\"filename './saafdemo-basicExperiment-0MBs-run0.csv' not found\",)\n",
      "An exception of type KeyError occurred. Arguments:\n",
      "(\"filename './saafdemo-basicExperiment-0MBs-run0.csv' not found\",)\n",
      "An exception of type KeyError occurred. Arguments:\n",
      "(\"filename './saafdemo-basicExperiment-0MBs-run0.csv' not found\",)\n",
      "An exception of type KeyError occurred. Arguments:\n",
      "(\"filename './saafdemo-basicExperiment-0MBs-run0.csv' not found\",)\n",
      "An exception of type KeyError occurred. Arguments:\n",
      "(\"filename './saafdemo-basicExperiment-0MBs-run0.csv' not found\",)\n",
      "An exception of type KeyError occurred. Arguments:\n",
      "(\"filename './saafdemo-basicExperiment-0MBs-run0.csv' not found\",)\n",
      "An exception of type KeyError occurred. Arguments:\n",
      "(\"filename './saafdemo-basicExperiment-0MBs-run0.csv' not found\",)\n",
      "An exception of type KeyError occurred. Arguments:\n",
      "(\"filename './saafdemo-basicExperiment-0MBs-run0.csv' not found\",)\n",
      "An exception of type KeyError occurred. Arguments:\n",
      "(\"filename './saafdemo-basicExperiment-0MBs-run0.csv' not found\",)\n",
      "An exception of type KeyError occurred. Arguments:\n",
      "(\"filename './saafdemo-basicExperiment-0MBs-run0.csv' not found\",)\n",
      "An exception of type KeyError occurred. Arguments:\n",
      "(\"filename './saafdemo-basicExperiment-0MBs-run0.csv' not found\",)\n",
      "An exception of type KeyError occurred. Arguments:\n",
      "(\"filename './saafdemo-basicExperiment-0MBs-run0.csv' not found\",)\n",
      "An exception of type KeyError occurred. Arguments:\n",
      "(\"filename './saafdemo-basicExperiment-0MBs-run0.csv' not found\",)\n",
      "An exception of type KeyError occurred. Arguments:\n",
      "(\"filename './saafdemo-basicExperiment-0MBs-run0.csv' not found\",)\n",
      "An exception of type KeyError occurred. Arguments:\n",
      "(\"filename './saafdemo-basicExperiment-0MBs-run0.csv' not found\",)\n",
      "An exception of type KeyError occurred. Arguments:\n",
      "(\"filename './saafdemo-basicExperiment-0MBs-run0.csv' not found\",)\n",
      "An exception of type KeyError occurred. Arguments:\n",
      "(\"filename './saafdemo-basicExperiment-0MBs-run0.csv' not found\",)\n"
     ]
    },
    {
     "name": "stderr",
     "output_type": "stream",
     "text": [
      " 19%|██████████████▌                                                            | 17903/92352 [00:03<00:34, 2183.71it/s]"
     ]
    },
    {
     "name": "stdout",
     "output_type": "stream",
     "text": [
      "An exception of type KeyError occurred. Arguments:\n",
      "(\"filename './saafdemo-basicExperiment-0MBs-run0.csv' not found\",)\n"
     ]
    },
    {
     "name": "stderr",
     "output_type": "stream",
     "text": [
      "100%|███████████████████████████████████████████████████████████████████████████| 92352/92352 [00:15<00:00, 5943.35it/s]\n"
     ]
    }
   ],
   "source": [
    "result = []\n",
    "workers = multiprocessing.cpu_count()\n",
    "with ThreadPoolExecutor(max_workers=workers) as tpe:\n",
    "    result = list(tqdm(tpe.map(extract, downloaded_files), total=len(downloaded_files)))"
   ]
  }
 ],
 "metadata": {
  "kernelspec": {
   "display_name": "Python 3 (ipykernel)",
   "language": "python",
   "name": "python3"
  },
  "language_info": {
   "codemirror_mode": {
    "name": "ipython",
    "version": 3
   },
   "file_extension": ".py",
   "mimetype": "text/x-python",
   "name": "python",
   "nbconvert_exporter": "python",
   "pygments_lexer": "ipython3",
   "version": "3.8.10"
  }
 },
 "nbformat": 4,
 "nbformat_minor": 5
}
