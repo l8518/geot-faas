{
 "cells": [
  {
   "cell_type": "markdown",
   "metadata": {
    "colab_type": "text",
    "id": "view-in-github"
   },
   "source": [
    "<a href=\"https://colab.research.google.com/github/l8518/geot-faas/blob/main/data_analysis.ipynb\" target=\"_parent\"><img src=\"https://colab.research.google.com/assets/colab-badge.svg\" alt=\"Open In Colab\"/></a>"
   ]
  },
  {
   "cell_type": "markdown",
   "metadata": {
    "id": "aBeYMUSHgsRY"
   },
   "source": [
    "# Dependencies"
   ]
  },
  {
   "cell_type": "code",
   "execution_count": 1,
   "metadata": {
    "colab": {
     "base_uri": "https://localhost:8080/"
    },
    "id": "fPnO1g-ZdTVb",
    "outputId": "3381efd5-7ab0-47fb-abbf-8f85f62ce956"
   },
   "outputs": [],
   "source": [
    "import datetime\n",
    "import os\n",
    "import matplotlib\n",
    "import matplotlib.dates as mdates\n",
    "import matplotlib.pyplot as plt\n",
    "import numpy as np\n",
    "import pandas as pd\n",
    "\n",
    "from notebook_shared import utils\n",
    "\n",
    "from statsmodels.tsa.seasonal import seasonal_decompose\n",
    "from pandas import Series\n",
    "\n",
    "import seaborn as sns\n",
    "sns.set()\n",
    "matplotlib.style.use('seaborn-colorblind')\n",
    "\n",
    "INPUT_FILE = \"dataset\"\n",
    "FSIZE = \"tiny\"\n",
    "\n",
    "df = pd.read_parquet(utils.get_dataset_path(INPUT_FILE, FSIZE))"
   ]
  },
  {
   "cell_type": "markdown",
   "metadata": {
    "id": "ruhVjRfJgv8J"
   },
   "source": [
    "#   Data Analysis"
   ]
  },
  {
   "cell_type": "code",
   "execution_count": 2,
   "metadata": {
    "id": "vO3BRav6j7kB"
   },
   "outputs": [],
   "source": [
    "# dataset = pd.read_parquet('dataset-sampled.parquet')\n",
    "dataset = df"
   ]
  },
  {
   "cell_type": "code",
   "execution_count": 3,
   "metadata": {
    "id": "aBj9dSBCX-Qd"
   },
   "outputs": [
    {
     "data": {
      "text/plain": [
       "Index(['driver_invocation', 'workload_invocation', 'provider', 'region',\n",
       "       'dirty_measurement', 'folder_uuid', '1_run_id', '2_thread_id',\n",
       "       'SAAFMemoryDeltaError', 'SAAFMemoryError', 'contextSwitches',\n",
       "       'contextSwitchesDelta', 'cpuIdle', 'cpuIdleDelta', 'cpuIowait',\n",
       "       'cpuIowaitDelta', 'cpuIrqDelta', 'cpuKrn', 'cpuKrnDelta', 'cpuModel',\n",
       "       'cpuNice', 'cpuSoftIrq', 'cpuSoftIrqDelta', 'cpuType', 'cpuUsr',\n",
       "       'cpuUsrDelta', 'endTime', 'frameworkRuntime', 'frameworkRuntimeDeltas',\n",
       "       'freeMemory', 'functionName', 'latency', 'linuxVersion', 'newcontainer',\n",
       "       'roundTripTime', 'runtime', 'runtimeOverlap', 'startTime',\n",
       "       'totalMemory', 'userRuntime', 'uuid', 'vmcpusteal', 'vmcpustealDelta',\n",
       "       'vmuptime', 'containerID', 'functionMemory', 'pageFaults',\n",
       "       'pageFaultsDelta', 'vmID', 'dow_utc', 'tod_utc', 'timezone',\n",
       "       'measure group', 'local_dow', 'local_tod'],\n",
       "      dtype='object')"
      ]
     },
     "execution_count": 3,
     "metadata": {},
     "output_type": "execute_result"
    }
   ],
   "source": [
    "dataset.columns"
   ]
  },
  {
   "cell_type": "code",
   "execution_count": 4,
   "metadata": {
    "id": "9x1tNNJ6eRmk"
   },
   "outputs": [],
   "source": [
    "# dataset.groupby( ['driver_invocation', 'provider'])['workload_invocation'].nunique()\n",
    "# dataset.groupby(['local_tod'])['runtime'].agg(['count'])\n",
    "\n",
    "coefficient_of_variation = lambda x: np.std(x, ddof=1) / np.mean(x) "
   ]
  },
  {
   "cell_type": "markdown",
   "metadata": {
    "id": "hpAc7ecVYFn4"
   },
   "source": [
    "## Measurement Errors (TODO)"
   ]
  },
  {
   "cell_type": "code",
   "execution_count": 5,
   "metadata": {
    "id": "3WnNaCvjTbUU"
   },
   "outputs": [],
   "source": [
    "measure_target = {'AWS': 10 , 'AZURE': 9 , 'GCP': 10}"
   ]
  },
  {
   "cell_type": "code",
   "execution_count": 6,
   "metadata": {
    "id": "Ui3y8-myTOBO"
   },
   "outputs": [],
   "source": [
    "measurement_df = dataset.groupby(['driver_invocation', 'provider'])['workload_invocation'].nunique().unstack('provider')"
   ]
  },
  {
   "cell_type": "markdown",
   "metadata": {
    "id": "ZcNPQ2quMoES"
   },
   "source": []
  },
  {
   "cell_type": "code",
   "execution_count": 7,
   "metadata": {
    "colab": {
     "base_uri": "https://localhost:8080/",
     "height": 286
    },
    "id": "pUXSLP-gUJGB",
    "outputId": "5c0372ed-0585-4e18-e90f-0cd471041bb3"
   },
   "outputs": [
    {
     "data": {
      "text/plain": [
       "<AxesSubplot:>"
      ]
     },
     "execution_count": 7,
     "metadata": {},
     "output_type": "execute_result"
    },
    {
     "data": {
      "image/png": "[encoded data removed]",
      "text/plain": [
       "<Figure size 432x288 with 1 Axes>"
      ]
     },
     "metadata": {},
     "output_type": "display_data"
    }
   ],
   "source": [
    "measurement_df.boxplot()"
   ]
  },
  {
   "cell_type": "code",
   "execution_count": 8,
   "metadata": {
    "colab": {
     "base_uri": "https://localhost:8080/",
     "height": 112
    },
    "id": "51KipOrYUSJA",
    "outputId": "7a0a1ff9-8833-4121-a444-75ab533fc49a"
   },
   "outputs": [
    {
     "data": {
      "text/html": [
       "<div>\n",
       "<style scoped>\n",
       "    .dataframe tbody tr th:only-of-type {\n",
       "        vertical-align: middle;\n",
       "    }\n",
       "\n",
       "    .dataframe tbody tr th {\n",
       "        vertical-align: top;\n",
       "    }\n",
       "\n",
       "    .dataframe thead th {\n",
       "        text-align: right;\n",
       "    }\n",
       "</style>\n",
       "<table border=\"1\" class=\"dataframe\">\n",
       "  <thead>\n",
       "    <tr style=\"text-align: right;\">\n",
       "      <th>provider</th>\n",
       "      <th>AWS</th>\n",
       "      <th>AZURE</th>\n",
       "      <th>GCP</th>\n",
       "    </tr>\n",
       "    <tr>\n",
       "      <th>driver_invocation</th>\n",
       "      <th></th>\n",
       "      <th></th>\n",
       "      <th></th>\n",
       "    </tr>\n",
       "  </thead>\n",
       "  <tbody>\n",
       "    <tr>\n",
       "      <th>2021-08-04 20:30:04.065</th>\n",
       "      <td>11</td>\n",
       "      <td>9</td>\n",
       "      <td>10</td>\n",
       "    </tr>\n",
       "  </tbody>\n",
       "</table>\n",
       "</div>"
      ],
      "text/plain": [
       "provider                 AWS  AZURE  GCP\n",
       "driver_invocation                       \n",
       "2021-08-04 20:30:04.065   11      9   10"
      ]
     },
     "execution_count": 8,
     "metadata": {},
     "output_type": "execute_result"
    }
   ],
   "source": [
    "measurement_df[measurement_df['AWS'] > 10]"
   ]
  },
  {
   "cell_type": "code",
   "execution_count": 9,
   "metadata": {
    "colab": {
     "base_uri": "https://localhost:8080/"
    },
    "id": "Whu1KWhITItW",
    "outputId": "6c41fd0a-6b73-4625-d3c4-06ec386dcf0f"
   },
   "outputs": [
    {
     "data": {
      "text/plain": [
       "0        2021-08-01 13:30:03.035\n",
       "1        2021-08-01 13:30:03.035\n",
       "2        2021-08-01 13:30:03.035\n",
       "3        2021-08-01 13:30:03.035\n",
       "4        2021-08-01 13:30:03.035\n",
       "                   ...          \n",
       "499531   2021-09-30 23:30:03.438\n",
       "499532   2021-09-30 23:30:03.438\n",
       "499533   2021-09-30 23:30:03.438\n",
       "499534   2021-09-30 23:30:03.438\n",
       "499535   2021-09-30 23:30:03.438\n",
       "Name: driver_invocation, Length: 499536, dtype: datetime64[ns]"
      ]
     },
     "execution_count": 9,
     "metadata": {},
     "output_type": "execute_result"
    }
   ],
   "source": [
    "dataset['driver_invocation']"
   ]
  },
  {
   "cell_type": "markdown",
   "metadata": {
    "id": "2w0MS4YpQaAK"
   },
   "source": [
    "## Provider Differences"
   ]
  },
  {
   "cell_type": "markdown",
   "metadata": {
    "id": "B1AaBcX-OLSr"
   },
   "source": [
    "### CPUs"
   ]
  },
  {
   "cell_type": "code",
   "execution_count": 10,
   "metadata": {
    "id": "0jOSINDmONJe"
   },
   "outputs": [],
   "source": [
    "cpu_count_df = dataset.groupby(['measure group', 'provider', 'region', 'driver_invocation'], observed=True)['cpuType'].nunique().reset_index(name='Unique CPU Types')"
   ]
  },
  {
   "cell_type": "code",
   "execution_count": 11,
   "metadata": {
    "colab": {
     "base_uri": "https://localhost:8080/",
     "height": 558
    },
    "id": "Oq9wXZI9Q03Y",
    "outputId": "0c434a2c-71b6-4e05-f2c0-aed23c3fa0fa"
   },
   "outputs": [
    {
     "name": "stdout",
     "output_type": "stream",
     "text": [
      "Average CPU Types used per Invocation\n",
      "         Unique CPU Types                                             \n",
      "                    count      mean       std  min  25%  50%  75%  max\n",
      "provider                                                              \n",
      "AWS               28927.0  1.039306  0.194325  1.0  1.0  1.0  1.0  2.0\n",
      "AZURE             25935.0  1.633854  0.607372  1.0  1.0  2.0  2.0  4.0\n",
      "GCP               29006.0  1.402193  0.524590  1.0  1.0  1.0  2.0  3.0\n"
     ]
    },
    {
     "data": {
      "image/png": "[encoded data removed]",
      "text/plain": [
       "<Figure size 432x288 with 1 Axes>"
      ]
     },
     "metadata": {},
     "output_type": "display_data"
    }
   ],
   "source": [
    "print('Average CPU Types used per Invocation')\n",
    "cpu_count_df.groupby(['provider']).boxplot(subplots=False, rot=45)\n",
    "print(cpu_count_df.groupby(['provider']).describe())"
   ]
  },
  {
   "cell_type": "markdown",
   "metadata": {
    "id": "W0rt2wiRS43F"
   },
   "source": [
    "Double Schedule + Missing Measurements"
   ]
  },
  {
   "cell_type": "markdown",
   "metadata": {
    "id": "kaJEmbhegODx"
   },
   "source": [
    "## Regional Provider Differences"
   ]
  },
  {
   "cell_type": "code",
   "execution_count": 12,
   "metadata": {
    "id": "mTrprgcYjcQG"
   },
   "outputs": [
    {
     "ename": "SyntaxError",
     "evalue": "invalid syntax (4278158472.py, line 6)",
     "output_type": "error",
     "traceback": [
      "\u001b[0;36m  File \u001b[0;32m\"/tmp/ipykernel_1753/4278158472.py\"\u001b[0;36m, line \u001b[0;32m6\u001b[0m\n\u001b[0;31m    for measure group in row['measure group']:\u001b[0m\n\u001b[0m                ^\u001b[0m\n\u001b[0;31mSyntaxError\u001b[0m\u001b[0;31m:\u001b[0m invalid syntax\n"
     ]
    }
   ],
   "source": [
    "# Common Stuff\n",
    "provider_region_mapping = {}\n",
    "provider_region_mg_df = dataset.groupby( ['provider', 'region'], observed=True)['measure group'].unique().reset_index()\n",
    "provider_region_mg_df\n",
    "for index, row in provider_region_mg_df.iterrows():\n",
    "  for measure group in row['measure group']:\n",
    "    region = row['region']\n",
    "    provider = row['provider']\n",
    "    measure group = row['measure group'][0]\n",
    "    provider_region_mapping[f\"({provider}, {region})\"] = {'region': region, 'measure group': measure group, 'provider': provider}\n",
    "    provider_region_mapping[f\"({provider}, {region}, {measure group})\"] = {'region': region, 'measure group': measure group, 'provider': provider}"
   ]
  },
  {
   "cell_type": "markdown",
   "metadata": {
    "id": "9dB5gG-sYACw"
   },
   "source": [
    "### Runtime Mean and CV"
   ]
  },
  {
   "cell_type": "code",
   "execution_count": null,
   "metadata": {
    "id": "S9MPpo-72483"
   },
   "outputs": [],
   "source": [
    "measure_group_df = dataset.groupby(['provider', 'region'], observed=True)['measure_group'].unique().dropna().reset_index()"
   ]
  },
  {
   "cell_type": "code",
   "execution_count": null,
   "metadata": {
    "id": "P9PHOaqsgCpE"
   },
   "outputs": [],
   "source": [
    "cov_provider_region_df = dataset.groupby( ['measure_group', 'provider', 'region'], observed=True)['runtime'].apply(coefficient_of_variation).reset_index(name='Runtime CV').set_index(['provider', 'region'])\n",
    "# mean_provider_region_df = dataset.groupby( ['measure_group', 'provider', 'region'], observed=True)['runtime'].mean().reset_index(name='Runtime Mean').set_index(['provider', 'region'])"
   ]
  },
  {
   "cell_type": "code",
   "execution_count": null,
   "metadata": {
    "colab": {
     "base_uri": "https://localhost:8080/"
    },
    "id": "RI5pN4IHgoAg",
    "outputId": "ac5a4e95-aa5b-484f-951c-ca22307cbfdb"
   },
   "outputs": [],
   "source": [
    "# mean_provider_region_df.sort_values(by=['measure_group', 'provider', 'region'])\n",
    "cov_provider_region_df.sort_values(by=['measure_group', 'provider', 'region'])\n",
    "\n",
    "for provider in cov_provider_region_df.index.get_level_values('provider').unique():\n",
    "  fig, axes = plt.subplots(figsize=(10,6), nrows=2, frameon=False)\n",
    "\n",
    "  #mean_provider_region_df[cov_provider_region_df.index.isin([provider], level='provider')].plot(kind='bar', ax=axes[0])\n",
    "  dataset[['provider', 'region', 'runtime']][dataset['provider'] == provider].groupby(['region'], observed=True).boxplot(subplots=False, ax=axes[0], showfliers=False)\n",
    "\n",
    "  cov_provider_region_df[cov_provider_region_df.index.isin([provider], level='provider')].plot(kind='bar', ax=axes[1])\n",
    "\n",
    "  axes[0].set_ylabel('Runtime\\n Boxplots')\n",
    "  # axes[0].get_legend().remove()\n",
    "  labels = []\n",
    "  for tick in axes[0].get_xticklabels():\n",
    "    labels.append('')\n",
    "  axes[0].set_xticklabels(labels)\n",
    "\n",
    "  for tick in axes[1].get_xticklabels():\n",
    "    tick.set_rotation(50)\n",
    "  \n",
    "  # Set Region Names\n",
    "  labels = []\n",
    "  for tick in axes[1].get_xticklabels():\n",
    "    mapping = provider_region_mapping[tick.get_text()]\n",
    "    region = mapping['region']\n",
    "    measure_group = mapping['measure_group']\n",
    "    labels.append(f\"{measure_group}\\n({region})\")\n",
    "  \n",
    "  axes[1].get_legend().remove()\n",
    "  axes[1].set_ylabel('Runtime \\n CV')\n",
    "  axes[1].set_xticklabels(labels)\n",
    "  axes[1].set_xlabel('')\n",
    "\n",
    "\n",
    "  fig.tight_layout()\n",
    "\n",
    "  print(provider)\n",
    "  plt.savefig(f'provider_region_mean_cov_{provider}.pdf')\n",
    "  plt.show()\n",
    "  plt.close()\n",
    "\n",
    "  # Generate a control figure - because I cannot fore the matching\n",
    "  fig, axes = plt.subplots(figsize=(12,10))\n",
    "  dataset[['provider', 'region', 'runtime']][dataset['provider'] == provider].groupby(['region'], observed=True).boxplot(subplots=False, ax=axes, rot=45)\n",
    "  plt.savefig(f'provider_region_mean_cov_{provider}_box.pdf')\n",
    "  plt.show()\n",
    "  plt.close()"
   ]
  },
  {
   "cell_type": "markdown",
   "metadata": {
    "id": "UxZJ3z0UYDnk"
   },
   "source": [
    "### Container Ids"
   ]
  },
  {
   "cell_type": "code",
   "execution_count": null,
   "metadata": {
    "id": "Rr-fSDE8Voyn"
   },
   "outputs": [],
   "source": [
    "uuid_unique_count_df = dataset.groupby(['measure_group', 'provider', 'region', 'driver_invocation'], observed=True)['uuid'].nunique().reset_index(name='Unique Container Id')"
   ]
  },
  {
   "cell_type": "code",
   "execution_count": null,
   "metadata": {
    "colab": {
     "base_uri": "https://localhost:8080/"
    },
    "id": "P3RNNicDbRae",
    "outputId": "21c9a3b4-82ca-4b66-b1eb-ad73f6ad6663"
   },
   "outputs": [],
   "source": [
    "uuid_unique_count_grouped = dataset.groupby(['measure_group', 'provider', 'region', 'driver_invocation'], observed=True)['uuid'].nunique().reset_index(name='Unique Container Id')"
   ]
  },
  {
   "cell_type": "code",
   "execution_count": null,
   "metadata": {
    "id": "pyhrn91uYV0_"
   },
   "outputs": [],
   "source": [
    "uuid_mean_unique_count_df = uuid_unique_count_df.groupby(['measure_group', 'provider', 'region'], observed=True)['Unique Container Id'].mean().reset_index(name='Mean Unique Container Id').set_index(['provider', 'region'])\n",
    "uuid_cv_unique_count_df = uuid_unique_count_df.groupby(['measure_group', 'provider', 'region'], observed=True)['Unique Container Id'].apply(coefficient_of_variation).reset_index(name='CV Unique Container Id').set_index(['provider', 'region'])"
   ]
  },
  {
   "cell_type": "code",
   "execution_count": null,
   "metadata": {
    "colab": {
     "base_uri": "https://localhost:8080/"
    },
    "id": "jbvsvHEIZKMZ",
    "outputId": "f536fcde-4ce8-4ad2-bbb2-8f79e1bbd834"
   },
   "outputs": [],
   "source": [
    "uuid_mean_unique_count_df.sort_values(by=['measure_group', 'provider', 'region'])\n",
    "uuid_cv_unique_count_df.sort_values(by=['measure_group', 'provider', 'region'])\n",
    "\n",
    "for provider in uuid_cv_unique_count_df.index.get_level_values('provider').unique():\n",
    "  fig, axes = plt.subplots(figsize=(10,6), nrows=2, frameon=False)\n",
    "\n",
    "  # fig.add_subplot(axsub)\n",
    "  uuid_unique_count_grouped[uuid_unique_count_grouped['provider'] == provider].groupby(['region'], observed=True).boxplot(subplots=False, ax=axes[0], showfliers=False)\n",
    "  uuid_cv_unique_count_df[uuid_cv_unique_count_df.index.isin([provider], level='provider')].plot(kind='bar', ax=axes[1])\n",
    "\n",
    "  axes[0].set_ylabel('Container Id\\nUnique Count\\n Boxplot')\n",
    "  labels = []\n",
    "  for tick in axes[0].get_xticklabels():\n",
    "    labels.append('')\n",
    "  axes[0].set_xticklabels(labels)\n",
    "\n",
    "  # axes[0].get_legend().remove()\n",
    "\n",
    "  for tick in axes[1].get_xticklabels():\n",
    "    tick.set_rotation(50)\n",
    "  \n",
    "  # Set Region Names\n",
    "  labels = []\n",
    "  for tick in axes[1].get_xticklabels():\n",
    "    mapping = provider_region_mapping[tick.get_text()]\n",
    "    region = mapping['region']\n",
    "    measure_group = mapping['measure_group']\n",
    "    labels.append(f\"{measure_group}\\n({region})\")\n",
    "  \n",
    "  axes[1].get_legend().remove()\n",
    "  axes[1].set_ylabel('Container Id\\nUnique Count\\n CV')\n",
    "  axes[1].set_xticklabels(labels)\n",
    "  axes[1].set_xlabel('')\n",
    "\n",
    "\n",
    "  fig.tight_layout()\n",
    "\n",
    "  plt.savefig(f'provider_region_container_ids_{provider}.pdf')\n",
    "  plt.show()\n",
    "  plt.close()\n",
    "\n",
    "  # Generate a control figure - because I cannot fore the matching\n",
    "  fig, axes = plt.subplots(figsize=(10,6))\n",
    "  uuid_unique_count_grouped[uuid_unique_count_grouped['provider'] == provider].groupby(['region'], observed=True).boxplot(subplots=False, ax=axes, rot=45)\n",
    "  plt.savefig(f'provider_region_container_ids_{provider}_box.pdf')\n",
    "  plt.show()\n",
    "  plt.close()"
   ]
  },
  {
   "cell_type": "markdown",
   "metadata": {
    "id": "WwAQGczCOEHN"
   },
   "source": [
    "### CPU types"
   ]
  },
  {
   "cell_type": "code",
   "execution_count": null,
   "metadata": {
    "colab": {
     "base_uri": "https://localhost:8080/"
    },
    "id": "P3wAlbvSN2mt",
    "outputId": "75f4d714-5b4f-4af4-9820-c8c7f342ded2"
   },
   "outputs": [],
   "source": [
    "unique_cpu_types_df = dataset.groupby(['measure_group', 'provider', 'region'], observed=True)['cpuType'].unique()\n",
    "unique_cpu_types_df.to_csv('unique_cpu_types_region_provider', index=False)\n",
    "unique_cpu_types_df"
   ]
  },
  {
   "cell_type": "code",
   "execution_count": null,
   "metadata": {
    "colab": {
     "base_uri": "https://localhost:8080/"
    },
    "id": "gf8Mup6CZAkv",
    "outputId": "806ef461-041f-4696-885c-6ef1bcfc1261"
   },
   "outputs": [],
   "source": [
    "unique_cpu_types_count_df = dataset.groupby(['measure_group', 'provider', 'region'], observed=True)['cpuType'].nunique()\n",
    "unique_cpu_types_count_df"
   ]
  },
  {
   "cell_type": "code",
   "execution_count": null,
   "metadata": {
    "colab": {
     "base_uri": "https://localhost:8080/",
     "height": 1000
    },
    "id": "oBzUw8agZD-I",
    "outputId": "8bd23fe7-19a8-421e-f8b7-5ee8043d4935"
   },
   "outputs": [],
   "source": [
    "unique_cpu_types_count_per_invocation_df = dataset.groupby(['measure_group', 'provider', 'region', 'driver_invocation'], observed=True)['cpuType'].nunique().reset_index()\n",
    "unique_cpu_types_count_per_invocation_df.groupby(['provider', 'region']).describe()"
   ]
  },
  {
   "cell_type": "code",
   "execution_count": null,
   "metadata": {
    "colab": {
     "base_uri": "https://localhost:8080/",
     "height": 1000
    },
    "id": "2EUmoEBNZmYo",
    "outputId": "38b0fb32-2d58-4e1b-e34e-043a5354f49b"
   },
   "outputs": [],
   "source": [
    "# Boxplots over CPUs per Invocation\n",
    "for provider in unique_cpu_types_count_per_invocation_df['provider'].unique():\n",
    "  fig, axes = plt.subplots(figsize=(6,3), nrows=1, ncols=1, frameon=False)\n",
    "  unique_cpu_types_count_per_invocation_df[unique_cpu_types_count_per_invocation_df['provider'] == provider].groupby('region', observed=True).boxplot(subplots=False, rot=45, ax=axes)\n",
    "  plt.savefig(f'unique_cpu_types_count_per_invocation_{provider}_box.pdf')\n",
    "  plt.show()\n",
    "  plt.close()"
   ]
  },
  {
   "cell_type": "markdown",
   "metadata": {
    "id": "IQsV2a0Jfjf0"
   },
   "source": [
    "### Correlation Stuff - is that even possible?!"
   ]
  },
  {
   "cell_type": "code",
   "execution_count": null,
   "metadata": {
    "id": "BDo4VRNfezyr"
   },
   "outputs": [],
   "source": [
    "regional_provider_differences = dataset[ ['provider', 'region', 'runtime', 'driver_invocation'] ]\n",
    "regional_provider_differences_avg_runtime = regional_provider_differences.groupby(['provider', 'region', 'driver_invocation'],observed=True).mean().reset_index()"
   ]
  },
  {
   "cell_type": "code",
   "execution_count": null,
   "metadata": {
    "colab": {
     "base_uri": "https://localhost:8080/",
     "height": 424
    },
    "id": "9tA-aJoffpnO",
    "outputId": "14c18ace-c2aa-4be9-c9e5-a3abc432e003"
   },
   "outputs": [],
   "source": [
    "regional_provider_differences_avg_runtime"
   ]
  },
  {
   "cell_type": "code",
   "execution_count": null,
   "metadata": {
    "id": "6T5lQRwVi4MJ"
   },
   "outputs": [],
   "source": [
    "region_dummies = pd.get_dummies(regional_provider_differences_avg_runtime, prefix=['region'], columns=['region'])"
   ]
  },
  {
   "cell_type": "code",
   "execution_count": null,
   "metadata": {
    "colab": {
     "base_uri": "https://localhost:8080/",
     "height": 635
    },
    "id": "RSf4hvOOicJZ",
    "outputId": "81f7aa30-6239-49a8-ff44-904a5ed5c7e2"
   },
   "outputs": [],
   "source": [
    "region_dummies"
   ]
  },
  {
   "cell_type": "code",
   "execution_count": null,
   "metadata": {
    "colab": {
     "base_uri": "https://localhost:8080/",
     "height": 635
    },
    "id": "Sk87F-8MkJy9",
    "outputId": "7b7e8eef-2360-4cdf-ae5e-06c7d7fb66a3"
   },
   "outputs": [],
   "source": [
    "df = pd.concat( [regional_provider_differences_avg_runtime, region_dummies] , axis=1)\n",
    "df"
   ]
  },
  {
   "cell_type": "code",
   "execution_count": null,
   "metadata": {
    "colab": {
     "base_uri": "https://localhost:8080/",
     "height": 1000
    },
    "id": "F7LkaVKjkgMv",
    "outputId": "d1faa2f8-efaf-4d85-fbd5-4a9619ba2e59"
   },
   "outputs": [],
   "source": [
    "df.corr()"
   ]
  },
  {
   "cell_type": "code",
   "execution_count": null,
   "metadata": {
    "colab": {
     "base_uri": "https://localhost:8080/",
     "height": 81
    },
    "id": "CNBcZRzUfm-_",
    "outputId": "56e20880-0651-45ab-c4b5-2aa7ddc736a6"
   },
   "outputs": [],
   "source": [
    "regional_provider_differences_avg_runtime.corr()"
   ]
  },
  {
   "cell_type": "code",
   "execution_count": null,
   "metadata": {
    "colab": {
     "base_uri": "https://localhost:8080/",
     "height": 1000
    },
    "id": "ZknqbV98gWpU",
    "outputId": "5f09cbe5-6a80-43ab-a148-ff0fefc7806a"
   },
   "outputs": [],
   "source": [
    "# pd.crosstab(regional_provider_differences_avg_runtime.index.get_level_values('region'), regional_provider_differences_avg_runtime['runtime'])"
   ]
  },
  {
   "cell_type": "markdown",
   "metadata": {
    "id": "M7_EMDDevxUu"
   },
   "source": [
    "## Regional Differences - TODO: Integrate other stuff"
   ]
  },
  {
   "cell_type": "code",
   "execution_count": null,
   "metadata": {
    "id": "vprtXYh8v0Xr"
   },
   "outputs": [],
   "source": [
    "cov_regional_df = dataset.groupby( ['measure_group', 'provider', 'region'], observed=True)['runtime'].apply(coefficient_of_variation).reset_index(name='Runtime CV').set_index(['provider', 'region', 'measure_group'])\n",
    "cov_regional_df = cov_regional_df.sort_values(by=['measure_group', 'provider', 'region'])"
   ]
  },
  {
   "cell_type": "code",
   "execution_count": null,
   "metadata": {
    "colab": {
     "base_uri": "https://localhost:8080/",
     "height": 1000
    },
    "id": "H-o4uYHk1LcC",
    "outputId": "e19746e2-72c9-44d3-8cdd-f567acb41601"
   },
   "outputs": [],
   "source": [
    "dataset = dataset.sort_values(by=['measure_group', 'provider', 'region'])\n",
    "\n",
    "for measure_group in cov_regional_df.index.get_level_values('measure_group').unique():\n",
    "  fig, axes = plt.subplots(figsize=(12,8), nrows=4, ncols=2, frameon=False)\n",
    "\n",
    "  gs = axes[0, 0].get_gridspec()\n",
    "  axes[0, 0].remove()\n",
    "  axes[1, 0].remove()\n",
    "  axes[2, 0].remove()\n",
    "  axbig = fig.add_subplot(gs[:3, 0])\n",
    "\n",
    "  cov_regional_df[cov_regional_df.index.isin([measure_group], level='measure_group')].plot(kind='bar', ax=axes[3, 0])\n",
    "  dataset[['measure_group', 'provider', 'region', 'runtime']][dataset['measure_group'] == measure_group].groupby(['measure_group', 'region', 'provider'], observed=True).boxplot(subplots=False, ax=axbig, showfliers=False)\n",
    "\n",
    "  axbig.get_xaxis().set_ticks([])\n",
    "\n",
    "  axbig.set_ylabel('Runtime\\n Boxplots')\n",
    "\n",
    "  # Set Region Names\n",
    "  labels = []\n",
    "  for tick in axes[3, 0].get_xticklabels():\n",
    "    mapping = provider_region_mapping[tick.get_text()]\n",
    "    labels.append(f\"{mapping['provider']}\\n({mapping['region']})\")\n",
    "\n",
    "  axes[3, 0].get_legend().remove()\n",
    "  axes[3, 0].set_ylabel('Runtime \\n CV')\n",
    "  axes[3, 0].set_xticklabels(labels)\n",
    "  axes[3, 0].set_xlabel('')\n",
    "  for tick in axes[3, 0].get_xticklabels():\n",
    "    tick.set_rotation(50)\n",
    "\n",
    "  fig.tight_layout()\n",
    "\n",
    "  print(measure_group)\n",
    "  plt.savefig(f'cov_regional_cov_boxplot_{measure_group}.pdf')\n",
    "  plt.show()\n",
    "  plt.close()\n",
    "\n",
    "  # # Generate a control figure - to check if correct\n",
    "  fig, axes = plt.subplots(figsize=(12,10))\n",
    "  dataset[['measure_group', 'provider', 'region', 'runtime']][dataset['measure_group'] == measure_group].groupby(['measure_group', 'region', 'provider'], observed=True).boxplot(subplots=False, ax=axes, rot=45)\n",
    "  plt.savefig(f'cov_regional_cov_boxplot_{measure_group}_control.pdf')\n",
    "  plt.show()\n",
    "  plt.close()"
   ]
  },
  {
   "cell_type": "code",
   "execution_count": null,
   "metadata": {
    "id": "b7c3pS0Xewy8"
   },
   "outputs": [],
   "source": []
  },
  {
   "cell_type": "markdown",
   "metadata": {
    "id": "1RjwKLxnQhQn"
   },
   "source": [
    "# Other Stuff (Experimental)"
   ]
  },
  {
   "cell_type": "code",
   "execution_count": null,
   "metadata": {
    "colab": {
     "base_uri": "https://localhost:8080/",
     "height": 1000
    },
    "id": "TVNGwHdHjr7S",
    "outputId": "66fe3186-c6f0-4788-ce2d-fc07d224bae8"
   },
   "outputs": [],
   "source": [
    "dataset"
   ]
  },
  {
   "cell_type": "code",
   "execution_count": null,
   "metadata": {
    "colab": {
     "base_uri": "https://localhost:8080/",
     "height": 1000
    },
    "id": "U83TiYmxh9fr",
    "outputId": "da8a4a2c-fc9b-4fa7-a5c7-11a41f432c29"
   },
   "outputs": [],
   "source": [
    "fig, axes = plt.subplots(figsize=(30,18), nrows=3, ncols=1, sharey='all')\n",
    "dataset[dataset['provider'] == 'AWS'].sort_values(['measure_group']).groupby( ['region'])['runtime'].mean().dropna().plot(kind='bar', by='region', ax=axes[0])\n",
    "dataset[dataset['provider'] == 'AZURE'].sort_values(['measure_group']).groupby( ['region'])['runtime'].mean().dropna().plot(kind='bar', by='region', ax=axes[1])\n",
    "dataset[dataset['provider'] == 'GCP'].sort_values(['measure_group']).groupby( ['region'])['runtime'].mean().dropna().plot(kind='bar', by='region', ax=axes[2])\n",
    "\n",
    "fig.tight_layout()\n",
    "plt.show()\n",
    "plt.close()\n",
    "\n",
    "fig, axes = plt.subplots(figsize=(30,6))\n",
    "dataset[dataset['provider'] == 'AWS'].sort_values(['measure_group']).groupby( ['region'])['runtime'].mean().dropna().plot(kind='bar', by='region', ax=axes)\n",
    "fig.tight_layout()\n",
    "plt.show()\n",
    "plt.close()\n",
    "\n",
    "fig, axes = plt.subplots(figsize=(30,6))\n",
    "dataset[dataset['provider'] == 'AZURE'].sort_values(['measure_group']).groupby( ['region'])['runtime'].mean().dropna().plot(kind='bar', by='region', ax=axes)\n",
    "fig.tight_layout()\n",
    "plt.show()\n",
    "plt.close()\n",
    "\n",
    "fig, axes = plt.subplots(figsize=(30,6))\n",
    "dataset[dataset['provider'] == 'GCP'].sort_values(['measure_group']).groupby( ['region'])['runtime'].mean().dropna().plot(kind='bar', by='region', ax=axes)\n",
    "fig.tight_layout()\n",
    "plt.show()\n",
    "plt.close()"
   ]
  },
  {
   "cell_type": "code",
   "execution_count": null,
   "metadata": {
    "id": "y-92ANeSlc0Z"
   },
   "outputs": [],
   "source": [
    "provider_regions_df = dataset[['provider', 'region']].value_counts().reset_index(name='count')"
   ]
  },
  {
   "cell_type": "code",
   "execution_count": null,
   "metadata": {
    "id": "8qXeHGW8oB4N"
   },
   "outputs": [],
   "source": [
    "def plot_mean_col(dataset, provider, region, col):\n",
    "    provider_df = dataset[dataset['provider'] == provider]\n",
    "    provider_region_df = provider_df[provider_df['region'] == region]\n",
    "    mean_latency_df = provider_region_df.groupby(['driver_invocation'])[col].mean()\n",
    "    \n",
    "    fig, ax = plt.subplots(figsize=(220,6))\n",
    "    mean_latency_df.plot(title=f'{provider} {region} mean {col}', style='.-')\n",
    "\n",
    "    hours = mdates.MinuteLocator(byminute=[0,30]) #or use interval\n",
    "\n",
    "    hours.MAXTICKS = 3392\n",
    "\n",
    "    h_fmt = mdates.DateFormatter('%a %H')\n",
    "\n",
    "\n",
    "    ax.xaxis.set_major_locator(hours)\n",
    "    ax.xaxis.set_major_formatter(h_fmt)\n",
    "\n",
    "    fig.autofmt_xdate()\n",
    "\n",
    "    plt.xticks(rotation=90)\n",
    "    plt.savefig(f'plot_mean_col_long_{provider}_{region}_{col}.pdf')\n",
    "    plt.show()\n",
    "    plt.close()"
   ]
  },
  {
   "cell_type": "code",
   "execution_count": null,
   "metadata": {
    "colab": {
     "background_save": true,
     "base_uri": "https://localhost:8080/",
     "height": 1000
    },
    "id": "HBj8KnJ-mp5p",
    "outputId": "6d9da6d8-bca2-4cd1-a731-8779ff3a52ac"
   },
   "outputs": [],
   "source": [
    "import pandas as pd\n",
    "from concurrent.futures import ThreadPoolExecutor\n",
    "import multiprocessing\n",
    "\n",
    "def plot(indexrowpair):\n",
    "    index = indexrowpair[0]\n",
    "    row = indexrowpair[1]\n",
    "    provider = row['provider']\n",
    "    region =  row['region']\n",
    "    df = dataset[['provider', 'region', 'latency', 'runtime', 'driver_invocation']] #.copy()\n",
    "    plot_mean_col(df, provider, region, 'latency')\n",
    "    plot_mean_col(df, provider, region, 'runtime')\n",
    "    \n",
    "   \n",
    "# with ThreadPoolExecutor(max_workers=32) as executor:\n",
    "#    result = executor.map(plot, provider_regions_df.iterrows())\n",
    "#    print(list(result))\n",
    "\n",
    "for irp in provider_regions_df.iterrows():\n",
    "     plot(irp)"
   ]
  },
  {
   "cell_type": "code",
   "execution_count": null,
   "metadata": {
    "colab": {
     "background_save": true
    },
    "id": "KLHFpRX8rsYK"
   },
   "outputs": [],
   "source": [
    "unique_cpu_models = dataset.groupby(['provider'])['cpuModel'].nunique()\n",
    "unique_vendors = dataset.groupby(['provider'])['vendorId'].nunique()"
   ]
  },
  {
   "cell_type": "code",
   "execution_count": null,
   "metadata": {
    "colab": {
     "background_save": true
    },
    "id": "zlEI5jcgr-8c",
    "outputId": "8adaf298-18dd-45f2-e411-bb675639b497"
   },
   "outputs": [],
   "source": [
    "fig, ax = plt.subplots(figsize=(240,8))\n",
    "dataset.groupby(['driver_invocation', 'provider'])['cpuType'].nunique().unstack().plot(ax=ax, kind='line')\n",
    "\n",
    "plt.xticks(rotation=90)\n",
    "plt.show()\n",
    "plt.close()"
   ]
  },
  {
   "cell_type": "code",
   "execution_count": null,
   "metadata": {
    "colab": {
     "background_save": true
    },
    "id": "zDAFwADgGBvO"
   },
   "outputs": [],
   "source": [
    "region = 'sa-east-1'\n",
    "provider = 'AWS'"
   ]
  },
  {
   "cell_type": "code",
   "execution_count": null,
   "metadata": {
    "colab": {
     "background_save": true
    },
    "id": "jeVafegXPFyS",
    "outputId": "3ca7ef0d-2736-44e7-ded6-948e103a6b20"
   },
   "outputs": [],
   "source": [
    "# for mg in measure_groups:\n",
    "#   for provider in measure_groups[mg]['providers']:\n",
    "#     regions = measure_groups[mg]['providers'][provider]\n",
    "#     if len(regions) > 0:\n",
    "      \n",
    "#       for region in regions:\n",
    "#         fig, ax = plt.subplots(figsize=(12,8))\n",
    "#         df = dataset[ (dataset['region'] == region) & (dataset['provider'] == provider)]\n",
    "#         df.groupby(['local_dow'])['runtime'].agg(['mean', 'std']).loc[['Monday', 'Tuesday', 'Wednesday', 'Thursday', 'Friday', 'Saturday', 'Sunday']].plot(title=f'{mg} - {provider} Mean with Std, {region}', kind='bar', yerr='std', ax=ax)\n",
    "\n",
    "#         plt.show()\n",
    "#         plt.close()"
   ]
  },
  {
   "cell_type": "code",
   "execution_count": null,
   "metadata": {
    "colab": {
     "base_uri": "https://localhost:8080/",
     "height": 1000
    },
    "id": "GkBpxvckQwB9",
    "outputId": "19c7ff11-8b2b-4f53-ca3e-ab3569728861"
   },
   "outputs": [],
   "source": [
    "# mgs = measure_groups.keys()\n",
    "# for mg in mgs:\n",
    "#   for provider in measure_groups[mg]['providers']:\n",
    "#     regions = measure_groups[mg]['providers'][provider]\n",
    "#     if len(regions) > 0:\n",
    "      \n",
    "#       for region in regions:\n",
    "#         fig, ax = plt.subplots(figsize=(24,8))\n",
    "#         df = dataset[ (dataset['region'] == region) & (dataset['provider'] == provider)]\n",
    "#         df.groupby(['local_tod'])['runtime'].agg(['mean', 'std']).plot(title=f'{mg} - {provider} Mean with Std, {region}', kind='bar', yerr='std', ax=ax)\n",
    "#         plt.show()\n",
    "#         plt.close()"
   ]
  },
  {
   "cell_type": "code",
   "execution_count": null,
   "metadata": {
    "id": "im-FPbbjsagu"
   },
   "outputs": [],
   "source": [
    "def get_average_responses_per_region_and_local_tod(dataset):\n",
    "  df = dataset.groupby(['region', 'local_tod'])[ ['driver_invocation'] ].agg(['count', 'nunique'])\n",
    "  return (df[ ('driver_invocation', 'count') ] / df[ ('driver_invocation', 'nunique') ]).reset_index(name ='Average Responses')\n",
    "avg_reponses_df = get_average_responses_per_region_and_local_tod(dataset)\n",
    "avg_reponses_df = avg_reponses_df.set_index('local_tod')"
   ]
  },
  {
   "cell_type": "code",
   "execution_count": null,
   "metadata": {
    "id": "C0O6R3gztfsK"
   },
   "outputs": [],
   "source": [
    "measure_group_region_df = dataset.groupby('measure_group')['region'].unique()\n",
    "for mg in measure_group_region_df.index:\n",
    "    regions = measure_group_region_df.loc[mg]\n",
    "    for region in regions:\n",
    "        fig, ax = plt.subplots(figsize=(24,8))\n",
    "        df = avg_reponses_df[avg_reponses_df['region'] == region]\n",
    "        df.plot(title=f'{mg} Mean with Std, {region}', kind='bar',  ax=ax)\n",
    "        plt.show()\n",
    "        plt.close()"
   ]
  },
  {
   "cell_type": "code",
   "execution_count": null,
   "metadata": {},
   "outputs": [],
   "source": [
    "dataset['driver_invocation'].dtype"
   ]
  },
  {
   "cell_type": "code",
   "execution_count": null,
   "metadata": {
    "id": "TJuiA-oq2yck"
   },
   "outputs": [],
   "source": [
    "from statsmodels.tsa.seasonal import seasonal_decompose\n",
    "def decompose(dataset, provider, region):\n",
    "  df = dataset[ (dataset['provider'] == provider) & (dataset['region'] == region) ].groupby(['driver_invocation'])[['runtime']].mean()\n",
    "  with plt.rc_context():\n",
    "      plt.rc(\"figure\", figsize=(20,8))\n",
    "      result = seasonal_decompose(df, model='additive', freq=48)\n",
    "      \n",
    "      fig, axis = plt.subplots(figsize=(24,12), sharex=True, nrows=4)\n",
    "\n",
    "      axis[0].plot(result.observed)\n",
    "      plt.setp(axis[0], ylabel='Observed')\n",
    "\n",
    "      axis[1].plot(result.resid)\n",
    "      plt.setp(axis[1], ylabel='Residuals')\n",
    "\n",
    "      axis[2].plot(result.trend)\n",
    "      plt.setp(axis[2], ylabel='Trend')\n",
    "\n",
    "      axis[3].plot(result.seasonal)\n",
    "      plt.setp(axis[3], ylabel='Seasonal')\n",
    "\n",
    "      hours = mdates.HourLocator(interval=12) #or use interval\n",
    "      hours.MAXTICKS = 3392\n",
    "\n",
    "      h_fmt = mdates.DateFormatter('%a %H')\n",
    "\n",
    "      axis[0].xaxis.set_major_locator(hours)\n",
    "      axis[0].xaxis.set_major_formatter(h_fmt)\n",
    "\n",
    "      axis[1].xaxis.set_major_locator(hours)\n",
    "      axis[1].xaxis.set_major_formatter(h_fmt)\n",
    "\n",
    "      axis[2].xaxis.set_major_locator(hours)\n",
    "      axis[2].xaxis.set_major_formatter(h_fmt)\n",
    "\n",
    "      axis[3].xaxis.set_major_locator(hours)\n",
    "      axis[3].xaxis.set_major_formatter(h_fmt)\n",
    "\n",
    "      fig.autofmt_xdate()\n",
    "\n",
    "      fig.suptitle(f\"Decomposition for {provider} - {region}\")\n",
    "\n",
    "      plt.show()\n",
    "      plt.close()\n",
    "\n",
    "      return result"
   ]
  },
  {
   "cell_type": "code",
   "execution_count": null,
   "metadata": {
    "colab": {
     "base_uri": "https://localhost:8080/",
     "height": 739
    },
    "id": "g7lEraDGVenO",
    "outputId": "4fac19f0-d431-4b2a-90e9-d191e8e4c264"
   },
   "outputs": [],
   "source": [
    "result = decompose(dataset, 'AZURE', 'japaneast')"
   ]
  },
  {
   "cell_type": "code",
   "execution_count": null,
   "metadata": {
    "colab": {
     "base_uri": "https://localhost:8080/",
     "height": 1000
    },
    "id": "-I8pFoL66ENc",
    "outputId": "add2967b-ae35-4ef2-c056-2da6fd4783aa"
   },
   "outputs": [],
   "source": [
    "decompose(dataset, 'AZURE', 'japaneast')\n",
    "decompose(dataset, 'GCP', 'asia-northeast1')\n",
    "decompose(dataset, 'AWS', 'ap-northeast-1')"
   ]
  },
  {
   "cell_type": "code",
   "execution_count": null,
   "metadata": {
    "colab": {
     "base_uri": "https://localhost:8080/",
     "height": 1000
    },
    "id": "JF1m5YRt61CV",
    "outputId": "a014ccec-7da7-4db1-dc88-23902a887247"
   },
   "outputs": [],
   "source": [
    "decompose(dataset, 'AWS', 'us-west-1')\n",
    "decompose(dataset, 'AWS', 'us-west-2')"
   ]
  },
  {
   "cell_type": "code",
   "execution_count": null,
   "metadata": {
    "colab": {
     "base_uri": "https://localhost:8080/",
     "height": 1000
    },
    "id": "NwhM3ut37Mu0",
    "outputId": "bdb0a14b-57bf-45fc-cae3-6ac9306df85f"
   },
   "outputs": [],
   "source": [
    "decompose(dataset, 'GCP', 'us-west2')\n",
    "decompose(dataset, 'GCP', 'us-west4')"
   ]
  }
 ],
 "metadata": {
  "colab": {
   "authorship_tag": "ABX9TyPBEP60ulfvF7TNv3l9rb9+",
   "collapsed_sections": [
    "kaJEmbhegODx"
   ],
   "include_colab_link": true,
   "machine_shape": "hm",
   "name": "data-analysis.ipynb",
   "provenance": [],
   "toc_visible": true
  },
  "kernelspec": {
   "display_name": "Python 3 (ipykernel)",
   "language": "python",
   "name": "python3"
  },
  "language_info": {
   "codemirror_mode": {
    "name": "ipython",
    "version": 3
   },
   "file_extension": ".py",
   "mimetype": "text/x-python",
   "name": "python",
   "nbconvert_exporter": "python",
   "pygments_lexer": "ipython3",
   "version": "3.8.10"
  }
 },
 "nbformat": 4,
 "nbformat_minor": 1
}
